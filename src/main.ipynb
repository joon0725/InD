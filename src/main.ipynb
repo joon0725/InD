{
 "cells": [
  {
   "cell_type": "code",
   "execution_count": 1,
   "metadata": {
    "collapsed": true
   },
   "outputs": [],
   "source": [
    "import os\n",
    "import tensorflow as tf\n",
    "from tensorflow.keras import Model\n",
    "from tensorflow.keras import layers\n",
    "import tensorflow.keras as keras\n",
    "from PIL import Image\n",
    "import numpy as np"
   ]
  },
  {
   "cell_type": "code",
   "execution_count": 2,
   "outputs": [],
   "source": [
    "src_dir = \"../datasets/ori/\"\n",
    "train_dir = \"../datasets/train/\"\n",
    "val_dir = \"../datasets/validation/\"\n",
    "test_dir = \"../datasets/test/\"\n",
    "categories = ['igneous/', 'metamorphic/', 'sedimentary/']\n",
    "for category in categories:\n",
    "    file_list = os.listdir(src_dir+category)\n",
    "    for n, i in enumerate(file_list[:200]):\n",
    "        img = Image.open(src_dir+category+i)\n",
    "        img_resize = img.resize((150, 150))\n",
    "        img_resize.save(train_dir+category[:-1]+\"_\"+str(n)+\".jpg\", \"JPEG\")\n",
    "    for n, i in enumerate(file_list[200:300]):\n",
    "        img = Image.open(src_dir+category+i)\n",
    "        img_resize = img.resize((150, 150))\n",
    "        img_resize.save(val_dir+category[:-1]+\"_\"+str(n)+\".jpg\", \"JPEG\")\n",
    "    for n, i in enumerate(file_list[300:400]):\n",
    "        img = Image.open(src_dir+category+i)\n",
    "        img_resize = img.resize((150, 150))\n",
    "        img_resize.save(test_dir+category[:-1]+\"_\"+str(n)+\".jpg\", \"JPEG\")"
   ],
   "metadata": {
    "collapsed": false,
    "pycharm": {
     "name": "#%%\n"
    }
   }
  },
  {
   "cell_type": "code",
   "execution_count": 3,
   "outputs": [],
   "source": [
    "train_data = np.empty(shape=(1, 150, 150, 3), dtype=np.float)\n",
    "for i in os.listdir(train_dir):\n",
    "    img = Image.open(train_dir+i)\n",
    "    train_data = np.append(train_data, [np.asarray(img)], axis=0)\n",
    "train_data = np.delete(train_data, [0,0], axis=0)\n",
    "train_data = train_data / 255.0"
   ],
   "metadata": {
    "collapsed": false,
    "pycharm": {
     "name": "#%%\n"
    }
   }
  },
  {
   "cell_type": "code",
   "execution_count": 4,
   "outputs": [],
   "source": [
    "a = [0 for i in range(200)] + [1 for j in range(200)] + [2 for k in range(200)]\n",
    "train_labels = np.array(a)"
   ],
   "metadata": {
    "collapsed": false,
    "pycharm": {
     "name": "#%%\n"
    }
   }
  },
  {
   "cell_type": "code",
   "execution_count": 5,
   "outputs": [
    {
     "name": "stdout",
     "output_type": "stream",
     "text": [
      "(600, 150, 150, 3) (600,)\n"
     ]
    }
   ],
   "source": [
    "s = np.arange(600)\n",
    "np.random.shuffle(s)\n",
    "train_data = train_data[s]\n",
    "train_labels = train_labels[s]\n",
    "print(train_data.shape, train_labels.shape)"
   ],
   "metadata": {
    "collapsed": false,
    "pycharm": {
     "name": "#%%\n"
    }
   }
  },
  {
   "cell_type": "code",
   "execution_count": 6,
   "outputs": [
    {
     "name": "stdout",
     "output_type": "stream",
     "text": [
      "Model: \"FC_Model\"\n",
      "_________________________________________________________________\n",
      "Layer (type)                 Output Shape              Param #   \n",
      "=================================================================\n",
      "input_1 (InputLayer)         [(None, 150, 150, 3)]     0         \n",
      "_________________________________________________________________\n",
      "flatten (Flatten)            (None, 67500)             0         \n",
      "_________________________________________________________________\n",
      "dense (Dense)                (None, 64)                4320064   \n",
      "_________________________________________________________________\n",
      "dense_1 (Dense)              (None, 128)               8320      \n",
      "_________________________________________________________________\n",
      "dense_2 (Dense)              (None, 256)               33024     \n",
      "_________________________________________________________________\n",
      "dense_3 (Dense)              (None, 3)                 771       \n",
      "=================================================================\n",
      "Total params: 4,362,179\n",
      "Trainable params: 4,362,179\n",
      "Non-trainable params: 0\n",
      "_________________________________________________________________\n"
     ]
    }
   ],
   "source": [
    "with tf.device('/CPU:0'):\n",
    "    inputs = keras.Input(shape=(150, 150, 3,))\n",
    "    flat = layers.Flatten()(inputs)\n",
    "    fc1 = layers.Dense(64, activation='relu')(flat)\n",
    "    fc2 = layers.Dense(128, activation='relu')(fc1)\n",
    "    fc3 = layers.Dense(256, activation='relu')(fc2)\n",
    "    output = layers.Dense(3, activation='softmax')(fc3)\n",
    "    model = Model(inputs=inputs, outputs=output, name=\"FC_Model\")\n",
    "    model.compile(optimizer='adam', loss='sparse_categorical_crossentropy', metrics=['acc'])\n",
    "model.summary()"
   ],
   "metadata": {
    "collapsed": false,
    "pycharm": {
     "name": "#%%\n"
    }
   }
  },
  {
   "cell_type": "code",
   "execution_count": 7,
   "outputs": [
    {
     "name": "stdout",
     "output_type": "stream",
     "text": [
      "Epoch 1/100\n",
      "19/19 [==============================] - 1s 13ms/step - loss: 4.0098 - acc: 0.3400\n",
      "Epoch 2/100\n",
      "19/19 [==============================] - 0s 13ms/step - loss: 1.5895 - acc: 0.3433\n",
      "Epoch 3/100\n",
      "19/19 [==============================] - 0s 14ms/step - loss: 1.1428 - acc: 0.3333\n",
      "Epoch 4/100\n",
      "19/19 [==============================] - 0s 14ms/step - loss: 1.2519 - acc: 0.3783\n",
      "Epoch 5/100\n",
      "19/19 [==============================] - 0s 15ms/step - loss: 1.1456 - acc: 0.3467\n",
      "Epoch 6/100\n",
      "19/19 [==============================] - 0s 13ms/step - loss: 1.1317 - acc: 0.3683\n",
      "Epoch 7/100\n",
      "19/19 [==============================] - 0s 14ms/step - loss: 1.0652 - acc: 0.4083\n",
      "Epoch 8/100\n",
      "19/19 [==============================] - 0s 14ms/step - loss: 1.0848 - acc: 0.4000\n",
      "Epoch 9/100\n",
      "19/19 [==============================] - 0s 13ms/step - loss: 1.1193 - acc: 0.3517\n",
      "Epoch 10/100\n",
      "19/19 [==============================] - 0s 13ms/step - loss: 1.1009 - acc: 0.3333\n",
      "Epoch 11/100\n",
      "19/19 [==============================] - 0s 13ms/step - loss: 1.1545 - acc: 0.3433\n",
      "Epoch 12/100\n",
      "19/19 [==============================] - 0s 15ms/step - loss: 1.1076 - acc: 0.3533\n",
      "Epoch 13/100\n",
      "19/19 [==============================] - 0s 14ms/step - loss: 1.0952 - acc: 0.3633\n",
      "Epoch 14/100\n",
      "19/19 [==============================] - 0s 15ms/step - loss: 1.0922 - acc: 0.3500\n",
      "Epoch 15/100\n",
      "19/19 [==============================] - 0s 18ms/step - loss: 1.0999 - acc: 0.3333\n",
      "Epoch 16/100\n",
      "19/19 [==============================] - 0s 16ms/step - loss: 1.0992 - acc: 0.3333\n",
      "Epoch 17/100\n",
      "19/19 [==============================] - 0s 15ms/step - loss: 1.0988 - acc: 0.3333\n",
      "Epoch 18/100\n",
      "19/19 [==============================] - 0s 15ms/step - loss: 1.0987 - acc: 0.3333\n",
      "Epoch 19/100\n",
      "19/19 [==============================] - 0s 17ms/step - loss: 1.0989 - acc: 0.3333\n",
      "Epoch 20/100\n",
      "19/19 [==============================] - 0s 15ms/step - loss: 1.0988 - acc: 0.3167\n",
      "Epoch 21/100\n",
      "19/19 [==============================] - 0s 16ms/step - loss: 1.0988 - acc: 0.3333\n",
      "Epoch 22/100\n",
      "19/19 [==============================] - 0s 16ms/step - loss: 1.0987 - acc: 0.3333\n",
      "Epoch 23/100\n",
      "19/19 [==============================] - 0s 16ms/step - loss: 1.0988 - acc: 0.3150\n",
      "Epoch 24/100\n",
      "19/19 [==============================] - 0s 15ms/step - loss: 1.0989 - acc: 0.3250\n",
      "Epoch 25/100\n",
      "19/19 [==============================] - 0s 16ms/step - loss: 1.0987 - acc: 0.3233\n",
      "Epoch 26/100\n",
      "19/19 [==============================] - 0s 16ms/step - loss: 1.0987 - acc: 0.2933\n",
      "Epoch 27/100\n",
      "19/19 [==============================] - 0s 15ms/step - loss: 1.0987 - acc: 0.3333\n",
      "Epoch 28/100\n",
      "19/19 [==============================] - 0s 16ms/step - loss: 1.0989 - acc: 0.3000\n",
      "Epoch 29/100\n",
      "19/19 [==============================] - 0s 16ms/step - loss: 1.0988 - acc: 0.2950\n",
      "Epoch 30/100\n",
      "19/19 [==============================] - 0s 15ms/step - loss: 1.0988 - acc: 0.3017\n",
      "Epoch 31/100\n",
      "19/19 [==============================] - 0s 15ms/step - loss: 1.0988 - acc: 0.3233\n",
      "Epoch 32/100\n",
      "19/19 [==============================] - 0s 16ms/step - loss: 1.0988 - acc: 0.3333\n",
      "Epoch 33/100\n",
      "19/19 [==============================] - 0s 15ms/step - loss: 1.0988 - acc: 0.3000\n",
      "Epoch 34/100\n",
      "19/19 [==============================] - 0s 14ms/step - loss: 1.0988 - acc: 0.3183\n",
      "Epoch 35/100\n",
      "19/19 [==============================] - 0s 16ms/step - loss: 1.0989 - acc: 0.3217\n",
      "Epoch 36/100\n",
      "19/19 [==============================] - 0s 18ms/step - loss: 1.0987 - acc: 0.3250\n",
      "Epoch 37/100\n",
      "19/19 [==============================] - 0s 15ms/step - loss: 1.0987 - acc: 0.3167\n",
      "Epoch 38/100\n",
      "19/19 [==============================] - 0s 15ms/step - loss: 1.0988 - acc: 0.3033\n",
      "Epoch 39/100\n",
      "19/19 [==============================] - 0s 16ms/step - loss: 1.0988 - acc: 0.3250\n",
      "Epoch 40/100\n",
      "19/19 [==============================] - 0s 15ms/step - loss: 1.0988 - acc: 0.3300\n",
      "Epoch 41/100\n",
      "19/19 [==============================] - 0s 15ms/step - loss: 1.0987 - acc: 0.3283\n",
      "Epoch 42/100\n",
      "19/19 [==============================] - 0s 16ms/step - loss: 1.0987 - acc: 0.3217\n",
      "Epoch 43/100\n",
      "19/19 [==============================] - 0s 16ms/step - loss: 1.0987 - acc: 0.3133\n",
      "Epoch 44/100\n",
      "19/19 [==============================] - 0s 14ms/step - loss: 1.0987 - acc: 0.3150\n",
      "Epoch 45/100\n",
      "19/19 [==============================] - 0s 14ms/step - loss: 1.0988 - acc: 0.3033\n",
      "Epoch 46/100\n",
      "19/19 [==============================] - 0s 16ms/step - loss: 1.0987 - acc: 0.3183\n",
      "Epoch 47/100\n",
      "19/19 [==============================] - 0s 15ms/step - loss: 1.0989 - acc: 0.3117\n",
      "Epoch 48/100\n",
      "19/19 [==============================] - 0s 16ms/step - loss: 1.0987 - acc: 0.3167\n",
      "Epoch 49/100\n",
      "19/19 [==============================] - 0s 16ms/step - loss: 1.0988 - acc: 0.3200\n",
      "Epoch 50/100\n",
      "19/19 [==============================] - 0s 15ms/step - loss: 1.0987 - acc: 0.3233\n",
      "Epoch 51/100\n",
      "19/19 [==============================] - 0s 15ms/step - loss: 1.0987 - acc: 0.3233\n",
      "Epoch 52/100\n",
      "19/19 [==============================] - 0s 15ms/step - loss: 1.0987 - acc: 0.3333\n",
      "Epoch 53/100\n",
      "19/19 [==============================] - 0s 15ms/step - loss: 1.0987 - acc: 0.3333\n",
      "Epoch 54/100\n",
      "19/19 [==============================] - 0s 14ms/step - loss: 1.0990 - acc: 0.3133\n",
      "Epoch 55/100\n",
      "19/19 [==============================] - 0s 14ms/step - loss: 1.0987 - acc: 0.3333\n",
      "Epoch 56/100\n",
      "19/19 [==============================] - 0s 17ms/step - loss: 1.0988 - acc: 0.3267\n",
      "Epoch 57/100\n",
      "19/19 [==============================] - 0s 15ms/step - loss: 1.0988 - acc: 0.3217\n",
      "Epoch 58/100\n",
      "19/19 [==============================] - 0s 15ms/step - loss: 1.0990 - acc: 0.3033\n",
      "Epoch 59/100\n",
      "19/19 [==============================] - 0s 15ms/step - loss: 1.0987 - acc: 0.2817\n",
      "Epoch 60/100\n",
      "19/19 [==============================] - 0s 16ms/step - loss: 1.0987 - acc: 0.3217\n",
      "Epoch 61/100\n",
      "19/19 [==============================] - 0s 15ms/step - loss: 1.0989 - acc: 0.3333\n",
      "Epoch 62/100\n",
      "19/19 [==============================] - 0s 15ms/step - loss: 1.0988 - acc: 0.3333\n",
      "Epoch 63/100\n",
      "19/19 [==============================] - 0s 15ms/step - loss: 1.0987 - acc: 0.3167\n",
      "Epoch 64/100\n",
      "19/19 [==============================] - 0s 14ms/step - loss: 1.0988 - acc: 0.3217\n",
      "Epoch 65/100\n",
      "19/19 [==============================] - 0s 16ms/step - loss: 1.0987 - acc: 0.3183\n",
      "Epoch 66/100\n",
      "19/19 [==============================] - 0s 15ms/step - loss: 1.0988 - acc: 0.3117\n",
      "Epoch 67/100\n",
      "19/19 [==============================] - 0s 16ms/step - loss: 1.0987 - acc: 0.3167\n",
      "Epoch 68/100\n",
      "19/19 [==============================] - 0s 15ms/step - loss: 1.0988 - acc: 0.3333\n",
      "Epoch 69/100\n",
      "19/19 [==============================] - 0s 15ms/step - loss: 1.0988 - acc: 0.3033\n",
      "Epoch 70/100\n",
      "19/19 [==============================] - 0s 14ms/step - loss: 1.0988 - acc: 0.3117\n",
      "Epoch 71/100\n",
      "19/19 [==============================] - 0s 14ms/step - loss: 1.0987 - acc: 0.3217\n",
      "Epoch 72/100\n",
      "19/19 [==============================] - 0s 15ms/step - loss: 1.0987 - acc: 0.3167\n",
      "Epoch 73/100\n",
      "19/19 [==============================] - 0s 14ms/step - loss: 1.0987 - acc: 0.3133\n",
      "Epoch 74/100\n",
      "19/19 [==============================] - 0s 15ms/step - loss: 1.0988 - acc: 0.2983\n",
      "Epoch 75/100\n",
      "19/19 [==============================] - 0s 15ms/step - loss: 1.0989 - acc: 0.3100\n",
      "Epoch 76/100\n",
      "19/19 [==============================] - 0s 14ms/step - loss: 1.0987 - acc: 0.3333\n",
      "Epoch 77/100\n",
      "19/19 [==============================] - 0s 16ms/step - loss: 1.0988 - acc: 0.3117\n",
      "Epoch 78/100\n",
      "19/19 [==============================] - 0s 15ms/step - loss: 1.0988 - acc: 0.3200\n",
      "Epoch 79/100\n",
      "19/19 [==============================] - 0s 14ms/step - loss: 1.0989 - acc: 0.3200\n",
      "Epoch 80/100\n",
      "19/19 [==============================] - 0s 14ms/step - loss: 1.0990 - acc: 0.3333\n",
      "Epoch 81/100\n",
      "19/19 [==============================] - 0s 15ms/step - loss: 1.0988 - acc: 0.3150\n",
      "Epoch 82/100\n",
      "19/19 [==============================] - 0s 15ms/step - loss: 1.0987 - acc: 0.3333\n",
      "Epoch 83/100\n",
      "19/19 [==============================] - 0s 14ms/step - loss: 1.0987 - acc: 0.3333\n",
      "Epoch 84/100\n",
      "19/19 [==============================] - 0s 14ms/step - loss: 1.0987 - acc: 0.3317\n",
      "Epoch 85/100\n",
      "19/19 [==============================] - 0s 14ms/step - loss: 1.0988 - acc: 0.2933\n",
      "Epoch 86/100\n",
      "19/19 [==============================] - 0s 13ms/step - loss: 1.0987 - acc: 0.3250\n",
      "Epoch 87/100\n",
      "19/19 [==============================] - 0s 14ms/step - loss: 1.0988 - acc: 0.3333\n",
      "Epoch 88/100\n",
      "19/19 [==============================] - 0s 13ms/step - loss: 1.0988 - acc: 0.3333\n",
      "Epoch 89/100\n",
      "19/19 [==============================] - 0s 13ms/step - loss: 1.0987 - acc: 0.3267\n",
      "Epoch 90/100\n",
      "19/19 [==============================] - 0s 13ms/step - loss: 1.0987 - acc: 0.3333\n",
      "Epoch 91/100\n",
      "19/19 [==============================] - 0s 13ms/step - loss: 1.0989 - acc: 0.3317\n",
      "Epoch 92/100\n",
      "19/19 [==============================] - 0s 14ms/step - loss: 1.0988 - acc: 0.2917\n",
      "Epoch 93/100\n",
      "19/19 [==============================] - 0s 14ms/step - loss: 1.0988 - acc: 0.3117\n",
      "Epoch 94/100\n",
      "19/19 [==============================] - 0s 13ms/step - loss: 1.0988 - acc: 0.3250\n",
      "Epoch 95/100\n",
      "19/19 [==============================] - 0s 15ms/step - loss: 1.0990 - acc: 0.3100\n",
      "Epoch 96/100\n",
      "19/19 [==============================] - 0s 14ms/step - loss: 1.0987 - acc: 0.3233\n",
      "Epoch 97/100\n",
      "19/19 [==============================] - 0s 14ms/step - loss: 1.0987 - acc: 0.3333\n",
      "Epoch 98/100\n",
      "19/19 [==============================] - 0s 13ms/step - loss: 1.0988 - acc: 0.3133\n",
      "Epoch 99/100\n",
      "19/19 [==============================] - 0s 14ms/step - loss: 1.0988 - acc: 0.3050\n",
      "Epoch 100/100\n",
      "19/19 [==============================] - 0s 15ms/step - loss: 1.0989 - acc: 0.2983\n"
     ]
    }
   ],
   "source": [
    "with tf.device('/CPU:0'):\n",
    "    model.fit(train_data, train_labels, epochs=100)"
   ],
   "metadata": {
    "collapsed": false,
    "pycharm": {
     "name": "#%%\n"
    }
   }
  },
  {
   "cell_type": "code",
   "execution_count": 11,
   "outputs": [
    {
     "name": "stdout",
     "output_type": "stream",
     "text": [
      "Model: \"CNN\"\n",
      "_________________________________________________________________\n",
      "Layer (type)                 Output Shape              Param #   \n",
      "=================================================================\n",
      "input_4 (InputLayer)         [(None, 150, 150, 3)]     0         \n",
      "_________________________________________________________________\n",
      "conv2d_6 (Conv2D)            (None, 148, 148, 64)      1792      \n",
      "_________________________________________________________________\n",
      "max_pooling2d_4 (MaxPooling2 (None, 74, 74, 64)        0         \n",
      "_________________________________________________________________\n",
      "dropout_2 (Dropout)          (None, 74, 74, 64)        0         \n",
      "_________________________________________________________________\n",
      "conv2d_7 (Conv2D)            (None, 72, 72, 128)       73856     \n",
      "_________________________________________________________________\n",
      "max_pooling2d_5 (MaxPooling2 (None, 36, 36, 128)       0         \n",
      "_________________________________________________________________\n",
      "dropout_3 (Dropout)          (None, 36, 36, 128)       0         \n",
      "_________________________________________________________________\n",
      "conv2d_8 (Conv2D)            (None, 34, 34, 256)       295168    \n",
      "_________________________________________________________________\n",
      "flatten_3 (Flatten)          (None, 295936)            0         \n",
      "_________________________________________________________________\n",
      "dense_6 (Dense)              (None, 3)                 887811    \n",
      "=================================================================\n",
      "Total params: 1,258,627\n",
      "Trainable params: 1,258,627\n",
      "Non-trainable params: 0\n",
      "_________________________________________________________________\n"
     ]
    }
   ],
   "source": [
    "with tf.device('/CPU:0'):\n",
    "    inputs = keras.Input(shape=(150, 150, 3,))\n",
    "    conv1 = layers.Conv2D(64, (3, 3), activation='relu')(inputs)\n",
    "    pool1 = layers.MaxPool2D((2, 2))(conv1)\n",
    "    drop1 = layers.Dropout(0.4)(pool1)\n",
    "    conv2 = layers.Conv2D(128, (3, 3), activation='relu')(drop1)\n",
    "    pool2 = layers.MaxPool2D((2, 2))(conv2)\n",
    "    drop2 = layers.Dropout(0.4)(pool2)\n",
    "    conv3 = layers.Conv2D(256, (3, 3), activation='relu')(drop2)\n",
    "    flat = layers.Flatten()(conv3)\n",
    "    output = layers.Dense(3, activation='softmax')(flat)\n",
    "    model = Model(inputs=inputs, outputs=output, name=\"CNN\")\n",
    "    model.compile(optimizer='adam', loss='sparse_categorical_crossentropy', metrics=['acc'])\n",
    "model.summary()"
   ],
   "metadata": {
    "collapsed": false,
    "pycharm": {
     "name": "#%%\n"
    }
   }
  },
  {
   "cell_type": "code",
   "execution_count": 12,
   "outputs": [
    {
     "name": "stdout",
     "output_type": "stream",
     "text": [
      "Epoch 1/30\n",
      "15/15 [==============================] - 5s 254ms/step - loss: 1.9967 - acc: 0.3458 - val_loss: 1.0982 - val_acc: 0.4083\n",
      "Epoch 2/30\n",
      "15/15 [==============================] - 4s 243ms/step - loss: 1.1003 - acc: 0.3458 - val_loss: 1.0966 - val_acc: 0.3417\n",
      "Epoch 3/30\n",
      "15/15 [==============================] - 4s 242ms/step - loss: 1.0946 - acc: 0.3812 - val_loss: 1.0841 - val_acc: 0.3417\n",
      "Epoch 4/30\n",
      "15/15 [==============================] - 4s 242ms/step - loss: 1.0853 - acc: 0.3792 - val_loss: 1.0456 - val_acc: 0.4917\n",
      "Epoch 5/30\n",
      "15/15 [==============================] - 4s 242ms/step - loss: 1.0607 - acc: 0.4667 - val_loss: 1.0159 - val_acc: 0.3667\n",
      "Epoch 6/30\n",
      "15/15 [==============================] - 4s 242ms/step - loss: 1.0538 - acc: 0.3917 - val_loss: 0.9887 - val_acc: 0.5750\n",
      "Epoch 7/30\n",
      "15/15 [==============================] - 4s 243ms/step - loss: 0.9776 - acc: 0.5104 - val_loss: 0.9659 - val_acc: 0.5250\n",
      "Epoch 8/30\n",
      "15/15 [==============================] - 4s 242ms/step - loss: 0.9767 - acc: 0.5500 - val_loss: 0.8900 - val_acc: 0.5750\n",
      "Epoch 9/30\n",
      "15/15 [==============================] - 4s 243ms/step - loss: 0.9234 - acc: 0.5729 - val_loss: 1.0641 - val_acc: 0.4667\n",
      "Epoch 10/30\n",
      "15/15 [==============================] - 4s 242ms/step - loss: 0.9314 - acc: 0.5417 - val_loss: 1.0544 - val_acc: 0.4167\n",
      "Epoch 11/30\n",
      "15/15 [==============================] - 4s 243ms/step - loss: 0.8660 - acc: 0.6250 - val_loss: 1.2479 - val_acc: 0.3583\n",
      "Epoch 12/30\n",
      "15/15 [==============================] - 4s 242ms/step - loss: 0.7458 - acc: 0.6583 - val_loss: 1.1903 - val_acc: 0.4917\n",
      "Epoch 13/30\n",
      "15/15 [==============================] - 4s 242ms/step - loss: 0.7060 - acc: 0.6833 - val_loss: 1.3125 - val_acc: 0.4583\n",
      "Epoch 14/30\n",
      "15/15 [==============================] - 4s 242ms/step - loss: 0.5744 - acc: 0.7458 - val_loss: 1.4095 - val_acc: 0.4500\n",
      "Epoch 15/30\n",
      "15/15 [==============================] - 4s 242ms/step - loss: 0.5491 - acc: 0.7521 - val_loss: 1.5505 - val_acc: 0.4583\n",
      "Epoch 16/30\n",
      "15/15 [==============================] - 4s 242ms/step - loss: 0.4854 - acc: 0.7958 - val_loss: 1.7616 - val_acc: 0.4667\n",
      "Epoch 17/30\n",
      "15/15 [==============================] - 4s 242ms/step - loss: 0.3767 - acc: 0.8562 - val_loss: 2.0258 - val_acc: 0.4583\n",
      "Epoch 18/30\n",
      "15/15 [==============================] - 4s 243ms/step - loss: 0.3141 - acc: 0.8917 - val_loss: 2.0926 - val_acc: 0.4917\n",
      "Epoch 19/30\n",
      "15/15 [==============================] - 4s 243ms/step - loss: 0.2813 - acc: 0.8958 - val_loss: 2.4192 - val_acc: 0.4167\n",
      "Epoch 20/30\n",
      "15/15 [==============================] - 4s 244ms/step - loss: 0.2067 - acc: 0.9333 - val_loss: 2.8358 - val_acc: 0.4250\n",
      "Epoch 21/30\n",
      "15/15 [==============================] - 4s 243ms/step - loss: 0.1560 - acc: 0.9500 - val_loss: 3.2321 - val_acc: 0.4500\n",
      "Epoch 22/30\n",
      "15/15 [==============================] - 4s 244ms/step - loss: 0.1166 - acc: 0.9667 - val_loss: 3.1694 - val_acc: 0.4667\n",
      "Epoch 23/30\n",
      "15/15 [==============================] - 4s 244ms/step - loss: 0.0995 - acc: 0.9729 - val_loss: 3.4359 - val_acc: 0.4500\n",
      "Epoch 24/30\n",
      "15/15 [==============================] - 4s 243ms/step - loss: 0.0841 - acc: 0.9708 - val_loss: 3.9446 - val_acc: 0.4333\n",
      "Epoch 25/30\n",
      "15/15 [==============================] - 4s 244ms/step - loss: 0.0667 - acc: 0.9708 - val_loss: 4.7751 - val_acc: 0.4583\n",
      "Epoch 26/30\n",
      "15/15 [==============================] - 4s 244ms/step - loss: 0.0869 - acc: 0.9792 - val_loss: 3.8629 - val_acc: 0.4667\n",
      "Epoch 27/30\n",
      "15/15 [==============================] - 4s 244ms/step - loss: 0.0885 - acc: 0.9750 - val_loss: 3.8805 - val_acc: 0.4417\n",
      "Epoch 28/30\n",
      "15/15 [==============================] - 4s 243ms/step - loss: 0.0890 - acc: 0.9729 - val_loss: 4.3519 - val_acc: 0.4583\n",
      "Epoch 29/30\n",
      "15/15 [==============================] - 4s 243ms/step - loss: 0.0522 - acc: 0.9854 - val_loss: 4.3533 - val_acc: 0.4250\n",
      "Epoch 30/30\n",
      "15/15 [==============================] - 4s 244ms/step - loss: 0.0546 - acc: 0.9875 - val_loss: 4.4006 - val_acc: 0.4500\n"
     ]
    },
    {
     "data": {
      "text/plain": "<keras.callbacks.History at 0x17cfcb552e0>"
     },
     "execution_count": 12,
     "metadata": {},
     "output_type": "execute_result"
    }
   ],
   "source": [
    "model.fit(train_data, train_labels, epochs=30, validation_split=0.2)"
   ],
   "metadata": {
    "collapsed": false,
    "pycharm": {
     "name": "#%%\n"
    }
   }
  },
  {
   "cell_type": "code",
   "execution_count": null,
   "outputs": [],
   "source": [],
   "metadata": {
    "collapsed": false,
    "pycharm": {
     "name": "#%%\n"
    }
   }
  }
 ],
 "metadata": {
  "kernelspec": {
   "display_name": "Python 3",
   "language": "python",
   "name": "python3"
  },
  "language_info": {
   "codemirror_mode": {
    "name": "ipython",
    "version": 2
   },
   "file_extension": ".py",
   "mimetype": "text/x-python",
   "name": "python",
   "nbconvert_exporter": "python",
   "pygments_lexer": "ipython2",
   "version": "2.7.6"
  }
 },
 "nbformat": 4,
 "nbformat_minor": 0
}