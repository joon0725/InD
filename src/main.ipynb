{
 "cells": [
  {
   "cell_type": "code",
   "execution_count": 2,
   "metadata": {
    "collapsed": true
   },
   "outputs": [],
   "source": [
    "import os\n",
    "import tensorflow as tf\n",
    "from tensorflow.keras import Model\n",
    "from tensorflow.keras import layers\n",
    "import tensorflow.keras as keras\n",
    "from PIL import Image\n",
    "import numpy as np"
   ]
  },
  {
   "cell_type": "markdown",
   "source": [],
   "metadata": {
    "collapsed": false
   }
  },
  {
   "cell_type": "code",
   "execution_count": 3,
   "outputs": [],
   "source": [
    "src_dir = \"../datasets/ori/\"\n",
    "train_dir = \"../datasets/train/\"\n",
    "val_dir = \"../datasets/validation/\"\n",
    "test_dir = \"../datasets/test/\"\n",
    "categories = ['igneous/', 'metamorphic/', 'sedimentary/']\n",
    "for category in categories:\n",
    "    file_list = os.listdir(src_dir+category)\n",
    "    for n, i in enumerate(file_list[:200]):\n",
    "        img = Image.open(src_dir+category+i)\n",
    "        img_resize = img.resize((150, 150))\n",
    "        img_resize.save(train_dir+category[:-1]+\"_\"+str(n)+\".jpg\", \"JPEG\")\n",
    "    for n, i in enumerate(file_list[200:300]):\n",
    "        img = Image.open(src_dir+category+i)\n",
    "        img_resize = img.resize((150, 150))\n",
    "        img_resize.save(val_dir+category[:-1]+\"_\"+str(n)+\".jpg\", \"JPEG\")\n",
    "    for n, i in enumerate(file_list[300:400]):\n",
    "        img = Image.open(src_dir+category+i)\n",
    "        img_resize = img.resize((150, 150))\n",
    "        img_resize.save(test_dir+category[:-1]+\"_\"+str(n)+\".jpg\", \"JPEG\")"
   ],
   "metadata": {
    "collapsed": false,
    "pycharm": {
     "name": "#%%\n"
    }
   }
  },
  {
   "cell_type": "code",
   "execution_count": 4,
   "outputs": [],
   "source": [
    "train_data = np.empty(shape=(1, 150, 150, 3), dtype=np.float64)\n",
    "for i in os.listdir(train_dir):\n",
    "    img = Image.open(train_dir+i)\n",
    "    train_data = np.append(train_data, [np.asarray(img)], axis=0)\n",
    "train_data = np.delete(train_data, [0,0], axis=0)\n",
    "train_data = train_data / 255.0"
   ],
   "metadata": {
    "collapsed": false,
    "pycharm": {
     "name": "#%%\n"
    }
   }
  },
  {
   "cell_type": "code",
   "execution_count": 5,
   "outputs": [],
   "source": [
    "a = [0 for i in range(200)] + [1 for j in range(200)] + [2 for k in range(200)]\n",
    "train_labels = np.array(a)"
   ],
   "metadata": {
    "collapsed": false,
    "pycharm": {
     "name": "#%%\n"
    }
   }
  },
  {
   "cell_type": "code",
   "execution_count": 6,
   "outputs": [
    {
     "name": "stdout",
     "output_type": "stream",
     "text": [
      "(600, 150, 150, 3) (600,)\n"
     ]
    }
   ],
   "source": [
    "s = np.arange(600)\n",
    "np.random.shuffle(s)\n",
    "train_data = train_data[s]\n",
    "train_labels = train_labels[s]\n",
    "print(train_data.shape, train_labels.shape)"
   ],
   "metadata": {
    "collapsed": false,
    "pycharm": {
     "name": "#%%\n"
    }
   }
  },
  {
   "cell_type": "code",
   "execution_count": 13,
   "outputs": [
    {
     "name": "stdout",
     "output_type": "stream",
     "text": [
      "Model: \"FC_Model\"\n",
      "_________________________________________________________________\n",
      " Layer (type)                Output Shape              Param #   \n",
      "=================================================================\n",
      " input_2 (InputLayer)        [(None, 150, 150, 3)]     0         \n",
      "                                                                 \n",
      " flatten_1 (Flatten)         (None, 67500)             0         \n",
      "                                                                 \n",
      " dense_4 (Dense)             (None, 64)                4320064   \n",
      "                                                                 \n",
      " dense_5 (Dense)             (None, 128)               8320      \n",
      "                                                                 \n",
      " dense_6 (Dense)             (None, 256)               33024     \n",
      "                                                                 \n",
      " dense_7 (Dense)             (None, 3)                 771       \n",
      "                                                                 \n",
      "=================================================================\n",
      "Total params: 4,362,179\n",
      "Trainable params: 4,362,179\n",
      "Non-trainable params: 0\n",
      "_________________________________________________________________\n"
     ]
    }
   ],
   "source": [
    "with tf.device('/CPU:0'):\n",
    "    inputs = keras.Input(shape=(150, 150, 3,))\n",
    "    flat = layers.Flatten()(inputs)\n",
    "    fc1 = layers.Dense(64, activation='relu')(flat)\n",
    "    fc2 = layers.Dense(128, activation='relu')(fc1)\n",
    "    fc3 = layers.Dense(256, activation='relu')(fc2)\n",
    "    output = layers.Dense(3, activation='softmax')(fc3)\n",
    "    model = Model(inputs=inputs, outputs=output, name=\"FC_Model\")\n",
    "    model.compile(optimizer='adam', loss='sparse_categorical_crossentropy', metrics=['acc'])\n",
    "model.summary()"
   ],
   "metadata": {
    "collapsed": false,
    "pycharm": {
     "name": "#%%\n"
    }
   }
  },
  {
   "cell_type": "code",
   "execution_count": 14,
   "outputs": [
    {
     "name": "stdout",
     "output_type": "stream",
     "text": [
      "Epoch 1/100\n",
      "19/19 [==============================] - 1s 56ms/step - loss: 4.9736 - acc: 0.3350\n",
      "Epoch 2/100\n",
      "19/19 [==============================] - 1s 65ms/step - loss: 1.5437 - acc: 0.3483\n",
      "Epoch 3/100\n",
      "19/19 [==============================] - 1s 65ms/step - loss: 1.7893 - acc: 0.3167\n",
      "Epoch 4/100\n",
      "19/19 [==============================] - 1s 59ms/step - loss: 1.3639 - acc: 0.3333\n",
      "Epoch 5/100\n",
      "19/19 [==============================] - 1s 50ms/step - loss: 1.2348 - acc: 0.3317\n",
      "Epoch 6/100\n",
      "19/19 [==============================] - 1s 45ms/step - loss: 1.1747 - acc: 0.3433\n",
      "Epoch 7/100\n",
      "19/19 [==============================] - 1s 57ms/step - loss: 1.1447 - acc: 0.3517\n",
      "Epoch 8/100\n",
      "19/19 [==============================] - 1s 55ms/step - loss: 1.1036 - acc: 0.4067\n",
      "Epoch 9/100\n",
      "19/19 [==============================] - 1s 48ms/step - loss: 1.1487 - acc: 0.3533\n",
      "Epoch 10/100\n",
      "19/19 [==============================] - 1s 53ms/step - loss: 1.1045 - acc: 0.3683\n",
      "Epoch 11/100\n",
      "19/19 [==============================] - 1s 45ms/step - loss: 1.1021 - acc: 0.3650\n",
      "Epoch 12/100\n",
      "19/19 [==============================] - 1s 50ms/step - loss: 1.0950 - acc: 0.3783\n",
      "Epoch 13/100\n",
      "19/19 [==============================] - 1s 44ms/step - loss: 1.0950 - acc: 0.3650\n",
      "Epoch 14/100\n",
      "19/19 [==============================] - 1s 55ms/step - loss: 1.1074 - acc: 0.3483\n",
      "Epoch 15/100\n",
      "19/19 [==============================] - 1s 38ms/step - loss: 1.0985 - acc: 0.3667\n",
      "Epoch 16/100\n",
      "19/19 [==============================] - 1s 48ms/step - loss: 1.0674 - acc: 0.4233\n",
      "Epoch 17/100\n",
      "19/19 [==============================] - 1s 33ms/step - loss: 1.0851 - acc: 0.4033\n",
      "Epoch 18/100\n",
      "19/19 [==============================] - 0s 24ms/step - loss: 1.1442 - acc: 0.3683\n",
      "Epoch 19/100\n",
      "19/19 [==============================] - 1s 31ms/step - loss: 1.0741 - acc: 0.4383\n",
      "Epoch 20/100\n",
      "19/19 [==============================] - 1s 33ms/step - loss: 1.1018 - acc: 0.3383\n",
      "Epoch 21/100\n",
      "19/19 [==============================] - 1s 47ms/step - loss: 1.0994 - acc: 0.3033\n",
      "Epoch 22/100\n",
      "19/19 [==============================] - 1s 64ms/step - loss: 1.0973 - acc: 0.3283\n",
      "Epoch 23/100\n",
      "19/19 [==============================] - 1s 54ms/step - loss: 1.0962 - acc: 0.3383\n",
      "Epoch 24/100\n",
      "19/19 [==============================] - 1s 43ms/step - loss: 1.0933 - acc: 0.3417\n",
      "Epoch 25/100\n",
      "19/19 [==============================] - 1s 43ms/step - loss: 1.0922 - acc: 0.3317\n",
      "Epoch 26/100\n",
      "19/19 [==============================] - 1s 40ms/step - loss: 1.0912 - acc: 0.3467\n",
      "Epoch 27/100\n",
      "19/19 [==============================] - 1s 33ms/step - loss: 1.0878 - acc: 0.3500\n",
      "Epoch 28/100\n",
      "19/19 [==============================] - 1s 32ms/step - loss: 1.0846 - acc: 0.3467\n",
      "Epoch 29/100\n",
      "19/19 [==============================] - 1s 42ms/step - loss: 1.0821 - acc: 0.3600\n",
      "Epoch 30/100\n",
      "19/19 [==============================] - 1s 49ms/step - loss: 1.0790 - acc: 0.3633\n",
      "Epoch 31/100\n",
      "19/19 [==============================] - 1s 44ms/step - loss: 1.0993 - acc: 0.3350\n",
      "Epoch 32/100\n",
      "19/19 [==============================] - 1s 47ms/step - loss: 1.0992 - acc: 0.3117\n",
      "Epoch 33/100\n",
      "19/19 [==============================] - 1s 38ms/step - loss: 1.0989 - acc: 0.3333\n",
      "Epoch 34/100\n",
      "19/19 [==============================] - 1s 39ms/step - loss: 1.0989 - acc: 0.3333\n",
      "Epoch 35/100\n",
      "19/19 [==============================] - 1s 37ms/step - loss: 1.0987 - acc: 0.3333\n",
      "Epoch 36/100\n",
      "19/19 [==============================] - 1s 41ms/step - loss: 1.0988 - acc: 0.3333\n",
      "Epoch 37/100\n",
      "19/19 [==============================] - 1s 34ms/step - loss: 1.0989 - acc: 0.3150\n",
      "Epoch 38/100\n",
      "19/19 [==============================] - 1s 30ms/step - loss: 1.0989 - acc: 0.3217\n",
      "Epoch 39/100\n",
      "19/19 [==============================] - 1s 33ms/step - loss: 1.0988 - acc: 0.3067\n",
      "Epoch 40/100\n",
      "19/19 [==============================] - 1s 32ms/step - loss: 1.0989 - acc: 0.3333\n",
      "Epoch 41/100\n",
      "19/19 [==============================] - 1s 42ms/step - loss: 1.0989 - acc: 0.2933\n",
      "Epoch 42/100\n",
      "19/19 [==============================] - 1s 39ms/step - loss: 1.0987 - acc: 0.3050\n",
      "Epoch 43/100\n",
      "19/19 [==============================] - 1s 35ms/step - loss: 1.0988 - acc: 0.2933\n",
      "Epoch 44/100\n",
      "19/19 [==============================] - 1s 41ms/step - loss: 1.0989 - acc: 0.2917\n",
      "Epoch 45/100\n",
      "19/19 [==============================] - 1s 39ms/step - loss: 1.0989 - acc: 0.2967\n",
      "Epoch 46/100\n",
      "19/19 [==============================] - 1s 42ms/step - loss: 1.0987 - acc: 0.3333\n",
      "Epoch 47/100\n",
      "19/19 [==============================] - 1s 37ms/step - loss: 1.0988 - acc: 0.3317\n",
      "Epoch 48/100\n",
      "19/19 [==============================] - 1s 30ms/step - loss: 1.0988 - acc: 0.3033\n",
      "Epoch 49/100\n",
      "19/19 [==============================] - 1s 26ms/step - loss: 1.0987 - acc: 0.3333\n",
      "Epoch 50/100\n",
      "19/19 [==============================] - 1s 33ms/step - loss: 1.0987 - acc: 0.3133\n",
      "Epoch 51/100\n",
      "19/19 [==============================] - 1s 33ms/step - loss: 1.0987 - acc: 0.3317\n",
      "Epoch 52/100\n",
      "19/19 [==============================] - 1s 37ms/step - loss: 1.0987 - acc: 0.3333\n",
      "Epoch 53/100\n",
      "19/19 [==============================] - 1s 34ms/step - loss: 1.0987 - acc: 0.3233\n",
      "Epoch 54/100\n",
      "19/19 [==============================] - 1s 33ms/step - loss: 1.0987 - acc: 0.2833\n",
      "Epoch 55/100\n",
      "19/19 [==============================] - 1s 31ms/step - loss: 1.0987 - acc: 0.3333\n",
      "Epoch 56/100\n",
      "19/19 [==============================] - 1s 39ms/step - loss: 1.0986 - acc: 0.3333\n",
      "Epoch 57/100\n",
      "19/19 [==============================] - 1s 45ms/step - loss: 1.0987 - acc: 0.3117\n",
      "Epoch 58/100\n",
      "19/19 [==============================] - 1s 36ms/step - loss: 1.0987 - acc: 0.3050\n",
      "Epoch 59/100\n",
      "19/19 [==============================] - 1s 27ms/step - loss: 1.0987 - acc: 0.3100\n",
      "Epoch 60/100\n",
      "19/19 [==============================] - 1s 36ms/step - loss: 1.0989 - acc: 0.3117\n",
      "Epoch 61/100\n",
      "19/19 [==============================] - 1s 43ms/step - loss: 1.0988 - acc: 0.3067\n",
      "Epoch 62/100\n",
      "19/19 [==============================] - 1s 30ms/step - loss: 1.0987 - acc: 0.3150\n",
      "Epoch 63/100\n",
      "19/19 [==============================] - 1s 36ms/step - loss: 1.0989 - acc: 0.3333\n",
      "Epoch 64/100\n",
      "19/19 [==============================] - 1s 29ms/step - loss: 1.0987 - acc: 0.3333\n",
      "Epoch 65/100\n",
      "19/19 [==============================] - 1s 35ms/step - loss: 1.0987 - acc: 0.3333\n",
      "Epoch 66/100\n",
      "19/19 [==============================] - 1s 46ms/step - loss: 1.0987 - acc: 0.3100\n",
      "Epoch 67/100\n",
      "19/19 [==============================] - 1s 55ms/step - loss: 1.0988 - acc: 0.3333\n",
      "Epoch 68/100\n",
      "19/19 [==============================] - 1s 51ms/step - loss: 1.0987 - acc: 0.3250\n",
      "Epoch 69/100\n",
      "19/19 [==============================] - 1s 41ms/step - loss: 1.0988 - acc: 0.3067\n",
      "Epoch 70/100\n",
      "19/19 [==============================] - 1s 60ms/step - loss: 1.0988 - acc: 0.3333\n",
      "Epoch 71/100\n",
      "19/19 [==============================] - 1s 49ms/step - loss: 1.0987 - acc: 0.3333\n",
      "Epoch 72/100\n",
      "19/19 [==============================] - 1s 48ms/step - loss: 1.0988 - acc: 0.3283\n",
      "Epoch 73/100\n",
      "19/19 [==============================] - 1s 30ms/step - loss: 1.0990 - acc: 0.3033\n",
      "Epoch 74/100\n",
      "19/19 [==============================] - 1s 31ms/step - loss: 1.0987 - acc: 0.3333\n",
      "Epoch 75/100\n",
      "19/19 [==============================] - 0s 26ms/step - loss: 1.0989 - acc: 0.3317\n",
      "Epoch 76/100\n",
      "19/19 [==============================] - 1s 28ms/step - loss: 1.0989 - acc: 0.2933\n",
      "Epoch 77/100\n",
      "19/19 [==============================] - 0s 25ms/step - loss: 1.0987 - acc: 0.3333\n",
      "Epoch 78/100\n",
      "19/19 [==============================] - 0s 26ms/step - loss: 1.0987 - acc: 0.3333\n",
      "Epoch 79/100\n",
      "19/19 [==============================] - 1s 33ms/step - loss: 1.0989 - acc: 0.3267\n",
      "Epoch 80/100\n",
      "19/19 [==============================] - 1s 28ms/step - loss: 1.0987 - acc: 0.3100\n",
      "Epoch 81/100\n",
      "19/19 [==============================] - 1s 44ms/step - loss: 1.0987 - acc: 0.3333\n",
      "Epoch 82/100\n",
      "19/19 [==============================] - 1s 33ms/step - loss: 1.0987 - acc: 0.3300\n",
      "Epoch 83/100\n",
      "19/19 [==============================] - 1s 33ms/step - loss: 1.0987 - acc: 0.3217\n",
      "Epoch 84/100\n",
      "19/19 [==============================] - 1s 36ms/step - loss: 1.0987 - acc: 0.3200\n",
      "Epoch 85/100\n",
      "19/19 [==============================] - 1s 51ms/step - loss: 1.0987 - acc: 0.3317\n",
      "Epoch 86/100\n",
      "19/19 [==============================] - 1s 62ms/step - loss: 1.0988 - acc: 0.3150\n",
      "Epoch 87/100\n",
      "19/19 [==============================] - 1s 50ms/step - loss: 1.0990 - acc: 0.3083\n",
      "Epoch 88/100\n",
      "19/19 [==============================] - 1s 40ms/step - loss: 1.0987 - acc: 0.3333\n",
      "Epoch 89/100\n",
      "19/19 [==============================] - 1s 46ms/step - loss: 1.0987 - acc: 0.3117\n",
      "Epoch 90/100\n",
      "19/19 [==============================] - 1s 47ms/step - loss: 1.0989 - acc: 0.3033\n",
      "Epoch 91/100\n",
      "19/19 [==============================] - 1s 35ms/step - loss: 1.0987 - acc: 0.3167\n",
      "Epoch 92/100\n",
      "19/19 [==============================] - 1s 32ms/step - loss: 1.0988 - acc: 0.2950\n",
      "Epoch 93/100\n",
      "19/19 [==============================] - 1s 43ms/step - loss: 1.0988 - acc: 0.3150\n",
      "Epoch 94/100\n",
      "19/19 [==============================] - 1s 42ms/step - loss: 1.0987 - acc: 0.3383\n",
      "Epoch 95/100\n",
      "19/19 [==============================] - 1s 46ms/step - loss: 1.0988 - acc: 0.3083\n",
      "Epoch 96/100\n",
      "19/19 [==============================] - 1s 53ms/step - loss: 1.0988 - acc: 0.3183\n",
      "Epoch 97/100\n",
      "19/19 [==============================] - 1s 48ms/step - loss: 1.0987 - acc: 0.3000\n",
      "Epoch 98/100\n",
      "19/19 [==============================] - 1s 44ms/step - loss: 1.0989 - acc: 0.3117\n",
      "Epoch 99/100\n",
      "19/19 [==============================] - 1s 62ms/step - loss: 1.0987 - acc: 0.3033\n",
      "Epoch 100/100\n",
      "19/19 [==============================] - 1s 48ms/step - loss: 1.0988 - acc: 0.2983\n"
     ]
    }
   ],
   "source": [
    "with tf.device('/CPU:0'):\n",
    "    model.fit(train_data, train_labels, epochs=100)"
   ],
   "metadata": {
    "collapsed": false,
    "pycharm": {
     "name": "#%%\n"
    }
   }
  },
  {
   "cell_type": "code",
   "execution_count": 15,
   "outputs": [
    {
     "name": "stdout",
     "output_type": "stream",
     "text": [
      "Model: \"CNN\"\n",
      "_________________________________________________________________\n",
      " Layer (type)                Output Shape              Param #   \n",
      "=================================================================\n",
      " input_3 (InputLayer)        [(None, 150, 150, 3)]     0         \n",
      "                                                                 \n",
      " conv2d (Conv2D)             (None, 148, 148, 64)      1792      \n",
      "                                                                 \n",
      " max_pooling2d (MaxPooling2D  (None, 74, 74, 64)       0         \n",
      " )                                                               \n",
      "                                                                 \n",
      " dropout (Dropout)           (None, 74, 74, 64)        0         \n",
      "                                                                 \n",
      " conv2d_1 (Conv2D)           (None, 72, 72, 128)       73856     \n",
      "                                                                 \n",
      " max_pooling2d_1 (MaxPooling  (None, 36, 36, 128)      0         \n",
      " 2D)                                                             \n",
      "                                                                 \n",
      " dropout_1 (Dropout)         (None, 36, 36, 128)       0         \n",
      "                                                                 \n",
      " conv2d_2 (Conv2D)           (None, 34, 34, 256)       295168    \n",
      "                                                                 \n",
      " flatten_2 (Flatten)         (None, 295936)            0         \n",
      "                                                                 \n",
      " dense_8 (Dense)             (None, 3)                 887811    \n",
      "                                                                 \n",
      "=================================================================\n",
      "Total params: 1,258,627\n",
      "Trainable params: 1,258,627\n",
      "Non-trainable params: 0\n",
      "_________________________________________________________________\n"
     ]
    }
   ],
   "source": [
    "with tf.device('/CPU:0'):\n",
    "    inputs = keras.Input(shape=(150, 150, 3,))\n",
    "    conv1 = layers.Conv2D(64, (3, 3), activation='relu')(inputs)\n",
    "    pool1 = layers.MaxPool2D((2, 2))(conv1)\n",
    "    drop1 = layers.Dropout(0.4)(pool1)\n",
    "    conv2 = layers.Conv2D(128, (3, 3), activation='relu')(drop1)\n",
    "    pool2 = layers.MaxPool2D((2, 2))(conv2)\n",
    "    drop2 = layers.Dropout(0.4)(pool2)\n",
    "    conv3 = layers.Conv2D(256, (3, 3), activation='relu')(drop2)\n",
    "    flat = layers.Flatten()(conv3)\n",
    "    output = layers.Dense(3, activation='softmax')(flat)\n",
    "    model = Model(inputs=inputs, outputs=output, name=\"CNN\")\n",
    "    model.compile(optimizer='adam', loss='sparse_categorical_crossentropy', metrics=['acc'])\n",
    "model.summary()"
   ],
   "metadata": {
    "collapsed": false,
    "pycharm": {
     "name": "#%%\n"
    }
   }
  },
  {
   "cell_type": "code",
   "execution_count": 16,
   "outputs": [
    {
     "name": "stdout",
     "output_type": "stream",
     "text": [
      "Epoch 1/30\n"
     ]
    },
    {
     "name": "stderr",
     "output_type": "stream",
     "text": [
      "2021-12-12 03:18:22.788233: I tensorflow/stream_executor/cuda/cuda_dnn.cc:366] Loaded cuDNN version 8300\n",
      "2021-12-12 03:18:23.387379: E tensorflow/stream_executor/cuda/cuda_blas.cc:226] failed to create cublas handle: CUBLAS_STATUS_ALLOC_FAILED\n",
      "2021-12-12 03:18:23.387797: W tensorflow/core/framework/op_kernel.cc:1745] OP_REQUIRES failed at conv_ops.cc:1120 : NOT_FOUND: No algorithm worked!\n"
     ]
    },
    {
     "ename": "NotFoundError",
     "evalue": "2 root error(s) found.\n  (0) NOT_FOUND:  No algorithm worked!\n\t [[node CNN/conv2d/Conv2D\n (defined at /usr/lib/python3.9/site-packages/keras/layers/convolutional.py:231)\n]]\n\t [[Adam/IdentityN/_60]]\n  (1) NOT_FOUND:  No algorithm worked!\n\t [[node CNN/conv2d/Conv2D\n (defined at /usr/lib/python3.9/site-packages/keras/layers/convolutional.py:231)\n]]\n0 successful operations.\n0 derived errors ignored. [Op:__inference_train_function_10639]\n\nErrors may have originated from an input operation.\nInput Source operations connected to node CNN/conv2d/Conv2D:\nIn[0] IteratorGetNext (defined at /usr/lib/python3.9/site-packages/keras/engine/training.py:866)\t\nIn[1] CNN/conv2d/Conv2D/ReadVariableOp:\n\nOperation defined at: (most recent call last)\n>>>   File \"/usr/lib/python3.9/runpy.py\", line 197, in _run_module_as_main\n>>>     return _run_code(code, main_globals, None,\n>>> \n>>>   File \"/usr/lib/python3.9/runpy.py\", line 87, in _run_code\n>>>     exec(code, run_globals)\n>>> \n>>>   File \"/usr/lib/python3.9/site-packages/ipykernel_launcher.py\", line 16, in <module>\n>>>     app.launch_new_instance()\n>>> \n>>>   File \"/usr/lib/python3.9/site-packages/traitlets/config/application.py\", line 846, in launch_instance\n>>>     app.start()\n>>> \n>>>   File \"/usr/lib/python3.9/site-packages/ipykernel/kernelapp.py\", line 677, in start\n>>>     self.io_loop.start()\n>>> \n>>>   File \"/usr/lib/python3.9/site-packages/tornado/platform/asyncio.py\", line 199, in start\n>>>     self.asyncio_loop.run_forever()\n>>> \n>>>   File \"/usr/lib/python3.9/asyncio/base_events.py\", line 596, in run_forever\n>>>     self._run_once()\n>>> \n>>>   File \"/usr/lib/python3.9/asyncio/base_events.py\", line 1890, in _run_once\n>>>     handle._run()\n>>> \n>>>   File \"/usr/lib/python3.9/asyncio/events.py\", line 80, in _run\n>>>     self._context.run(self._callback, *self._args)\n>>> \n>>>   File \"/usr/lib/python3.9/site-packages/ipykernel/kernelbase.py\", line 457, in dispatch_queue\n>>>     await self.process_one()\n>>> \n>>>   File \"/usr/lib/python3.9/site-packages/ipykernel/kernelbase.py\", line 446, in process_one\n>>>     await dispatch(*args)\n>>> \n>>>   File \"/usr/lib/python3.9/site-packages/ipykernel/kernelbase.py\", line 353, in dispatch_shell\n>>>     await result\n>>> \n>>>   File \"/usr/lib/python3.9/site-packages/ipykernel/kernelbase.py\", line 648, in execute_request\n>>>     reply_content = await reply_content\n>>> \n>>>   File \"/usr/lib/python3.9/site-packages/ipykernel/ipkernel.py\", line 353, in do_execute\n>>>     res = shell.run_cell(code, store_history=store_history, silent=silent)\n>>> \n>>>   File \"/usr/lib/python3.9/site-packages/ipykernel/zmqshell.py\", line 533, in run_cell\n>>>     return super(ZMQInteractiveShell, self).run_cell(*args, **kwargs)\n>>> \n>>>   File \"/usr/lib/python3.9/site-packages/IPython/core/interactiveshell.py\", line 2914, in run_cell\n>>>     result = self._run_cell(\n>>> \n>>>   File \"/usr/lib/python3.9/site-packages/IPython/core/interactiveshell.py\", line 2960, in _run_cell\n>>>     return runner(coro)\n>>> \n>>>   File \"/usr/lib/python3.9/site-packages/IPython/core/async_helpers.py\", line 78, in _pseudo_sync_runner\n>>>     coro.send(None)\n>>> \n>>>   File \"/usr/lib/python3.9/site-packages/IPython/core/interactiveshell.py\", line 3185, in run_cell_async\n>>>     has_raised = await self.run_ast_nodes(code_ast.body, cell_name,\n>>> \n>>>   File \"/usr/lib/python3.9/site-packages/IPython/core/interactiveshell.py\", line 3377, in run_ast_nodes\n>>>     if (await self.run_code(code, result,  async_=asy)):\n>>> \n>>>   File \"/usr/lib/python3.9/site-packages/IPython/core/interactiveshell.py\", line 3457, in run_code\n>>>     exec(code_obj, self.user_global_ns, self.user_ns)\n>>> \n>>>   File \"/tmp/ipykernel_42087/1832398538.py\", line 1, in <module>\n>>>     model.fit(train_data, train_labels, epochs=30, validation_split=0.2)\n>>> \n>>>   File \"/usr/lib/python3.9/site-packages/keras/utils/traceback_utils.py\", line 64, in error_handler\n>>>     return fn(*args, **kwargs)\n>>> \n>>>   File \"/usr/lib/python3.9/site-packages/keras/engine/training.py\", line 1216, in fit\n>>>     tmp_logs = self.train_function(iterator)\n>>> \n>>>   File \"/usr/lib/python3.9/site-packages/keras/engine/training.py\", line 878, in train_function\n>>>     return step_function(self, iterator)\n>>> \n>>>   File \"/usr/lib/python3.9/site-packages/keras/engine/training.py\", line 867, in step_function\n>>>     outputs = model.distribute_strategy.run(run_step, args=(data,))\n>>> \n>>>   File \"/usr/lib/python3.9/site-packages/keras/engine/training.py\", line 860, in run_step\n>>>     outputs = model.train_step(data)\n>>> \n>>>   File \"/usr/lib/python3.9/site-packages/keras/engine/training.py\", line 808, in train_step\n>>>     y_pred = self(x, training=True)\n>>> \n>>>   File \"/usr/lib/python3.9/site-packages/keras/utils/traceback_utils.py\", line 64, in error_handler\n>>>     return fn(*args, **kwargs)\n>>> \n>>>   File \"/usr/lib/python3.9/site-packages/keras/engine/base_layer.py\", line 1083, in __call__\n>>>     outputs = call_fn(inputs, *args, **kwargs)\n>>> \n>>>   File \"/usr/lib/python3.9/site-packages/keras/utils/traceback_utils.py\", line 92, in error_handler\n>>>     return fn(*args, **kwargs)\n>>> \n>>>   File \"/usr/lib/python3.9/site-packages/keras/engine/functional.py\", line 451, in call\n>>>     return self._run_internal_graph(\n>>> \n>>>   File \"/usr/lib/python3.9/site-packages/keras/engine/functional.py\", line 589, in _run_internal_graph\n>>>     outputs = node.layer(*args, **kwargs)\n>>> \n>>>   File \"/usr/lib/python3.9/site-packages/keras/utils/traceback_utils.py\", line 64, in error_handler\n>>>     return fn(*args, **kwargs)\n>>> \n>>>   File \"/usr/lib/python3.9/site-packages/keras/engine/base_layer.py\", line 1083, in __call__\n>>>     outputs = call_fn(inputs, *args, **kwargs)\n>>> \n>>>   File \"/usr/lib/python3.9/site-packages/keras/utils/traceback_utils.py\", line 92, in error_handler\n>>>     return fn(*args, **kwargs)\n>>> \n>>>   File \"/usr/lib/python3.9/site-packages/keras/layers/convolutional.py\", line 246, in call\n>>>     outputs = self.convolution_op(inputs, self.kernel)\n>>> \n>>>   File \"/usr/lib/python3.9/site-packages/keras/layers/convolutional.py\", line 231, in convolution_op\n>>>     return tf.nn.convolution(\n>>> \n\nInput Source operations connected to node CNN/conv2d/Conv2D:\nIn[0] IteratorGetNext (defined at /usr/lib/python3.9/site-packages/keras/engine/training.py:866)\t\nIn[1] CNN/conv2d/Conv2D/ReadVariableOp:\n\nOperation defined at: (most recent call last)\n>>>   File \"/usr/lib/python3.9/runpy.py\", line 197, in _run_module_as_main\n>>>     return _run_code(code, main_globals, None,\n>>> \n>>>   File \"/usr/lib/python3.9/runpy.py\", line 87, in _run_code\n>>>     exec(code, run_globals)\n>>> \n>>>   File \"/usr/lib/python3.9/site-packages/ipykernel_launcher.py\", line 16, in <module>\n>>>     app.launch_new_instance()\n>>> \n>>>   File \"/usr/lib/python3.9/site-packages/traitlets/config/application.py\", line 846, in launch_instance\n>>>     app.start()\n>>> \n>>>   File \"/usr/lib/python3.9/site-packages/ipykernel/kernelapp.py\", line 677, in start\n>>>     self.io_loop.start()\n>>> \n>>>   File \"/usr/lib/python3.9/site-packages/tornado/platform/asyncio.py\", line 199, in start\n>>>     self.asyncio_loop.run_forever()\n>>> \n>>>   File \"/usr/lib/python3.9/asyncio/base_events.py\", line 596, in run_forever\n>>>     self._run_once()\n>>> \n>>>   File \"/usr/lib/python3.9/asyncio/base_events.py\", line 1890, in _run_once\n>>>     handle._run()\n>>> \n>>>   File \"/usr/lib/python3.9/asyncio/events.py\", line 80, in _run\n>>>     self._context.run(self._callback, *self._args)\n>>> \n>>>   File \"/usr/lib/python3.9/site-packages/ipykernel/kernelbase.py\", line 457, in dispatch_queue\n>>>     await self.process_one()\n>>> \n>>>   File \"/usr/lib/python3.9/site-packages/ipykernel/kernelbase.py\", line 446, in process_one\n>>>     await dispatch(*args)\n>>> \n>>>   File \"/usr/lib/python3.9/site-packages/ipykernel/kernelbase.py\", line 353, in dispatch_shell\n>>>     await result\n>>> \n>>>   File \"/usr/lib/python3.9/site-packages/ipykernel/kernelbase.py\", line 648, in execute_request\n>>>     reply_content = await reply_content\n>>> \n>>>   File \"/usr/lib/python3.9/site-packages/ipykernel/ipkernel.py\", line 353, in do_execute\n>>>     res = shell.run_cell(code, store_history=store_history, silent=silent)\n>>> \n>>>   File \"/usr/lib/python3.9/site-packages/ipykernel/zmqshell.py\", line 533, in run_cell\n>>>     return super(ZMQInteractiveShell, self).run_cell(*args, **kwargs)\n>>> \n>>>   File \"/usr/lib/python3.9/site-packages/IPython/core/interactiveshell.py\", line 2914, in run_cell\n>>>     result = self._run_cell(\n>>> \n>>>   File \"/usr/lib/python3.9/site-packages/IPython/core/interactiveshell.py\", line 2960, in _run_cell\n>>>     return runner(coro)\n>>> \n>>>   File \"/usr/lib/python3.9/site-packages/IPython/core/async_helpers.py\", line 78, in _pseudo_sync_runner\n>>>     coro.send(None)\n>>> \n>>>   File \"/usr/lib/python3.9/site-packages/IPython/core/interactiveshell.py\", line 3185, in run_cell_async\n>>>     has_raised = await self.run_ast_nodes(code_ast.body, cell_name,\n>>> \n>>>   File \"/usr/lib/python3.9/site-packages/IPython/core/interactiveshell.py\", line 3377, in run_ast_nodes\n>>>     if (await self.run_code(code, result,  async_=asy)):\n>>> \n>>>   File \"/usr/lib/python3.9/site-packages/IPython/core/interactiveshell.py\", line 3457, in run_code\n>>>     exec(code_obj, self.user_global_ns, self.user_ns)\n>>> \n>>>   File \"/tmp/ipykernel_42087/1832398538.py\", line 1, in <module>\n>>>     model.fit(train_data, train_labels, epochs=30, validation_split=0.2)\n>>> \n>>>   File \"/usr/lib/python3.9/site-packages/keras/utils/traceback_utils.py\", line 64, in error_handler\n>>>     return fn(*args, **kwargs)\n>>> \n>>>   File \"/usr/lib/python3.9/site-packages/keras/engine/training.py\", line 1216, in fit\n>>>     tmp_logs = self.train_function(iterator)\n>>> \n>>>   File \"/usr/lib/python3.9/site-packages/keras/engine/training.py\", line 878, in train_function\n>>>     return step_function(self, iterator)\n>>> \n>>>   File \"/usr/lib/python3.9/site-packages/keras/engine/training.py\", line 867, in step_function\n>>>     outputs = model.distribute_strategy.run(run_step, args=(data,))\n>>> \n>>>   File \"/usr/lib/python3.9/site-packages/keras/engine/training.py\", line 860, in run_step\n>>>     outputs = model.train_step(data)\n>>> \n>>>   File \"/usr/lib/python3.9/site-packages/keras/engine/training.py\", line 808, in train_step\n>>>     y_pred = self(x, training=True)\n>>> \n>>>   File \"/usr/lib/python3.9/site-packages/keras/utils/traceback_utils.py\", line 64, in error_handler\n>>>     return fn(*args, **kwargs)\n>>> \n>>>   File \"/usr/lib/python3.9/site-packages/keras/engine/base_layer.py\", line 1083, in __call__\n>>>     outputs = call_fn(inputs, *args, **kwargs)\n>>> \n>>>   File \"/usr/lib/python3.9/site-packages/keras/utils/traceback_utils.py\", line 92, in error_handler\n>>>     return fn(*args, **kwargs)\n>>> \n>>>   File \"/usr/lib/python3.9/site-packages/keras/engine/functional.py\", line 451, in call\n>>>     return self._run_internal_graph(\n>>> \n>>>   File \"/usr/lib/python3.9/site-packages/keras/engine/functional.py\", line 589, in _run_internal_graph\n>>>     outputs = node.layer(*args, **kwargs)\n>>> \n>>>   File \"/usr/lib/python3.9/site-packages/keras/utils/traceback_utils.py\", line 64, in error_handler\n>>>     return fn(*args, **kwargs)\n>>> \n>>>   File \"/usr/lib/python3.9/site-packages/keras/engine/base_layer.py\", line 1083, in __call__\n>>>     outputs = call_fn(inputs, *args, **kwargs)\n>>> \n>>>   File \"/usr/lib/python3.9/site-packages/keras/utils/traceback_utils.py\", line 92, in error_handler\n>>>     return fn(*args, **kwargs)\n>>> \n>>>   File \"/usr/lib/python3.9/site-packages/keras/layers/convolutional.py\", line 246, in call\n>>>     outputs = self.convolution_op(inputs, self.kernel)\n>>> \n>>>   File \"/usr/lib/python3.9/site-packages/keras/layers/convolutional.py\", line 231, in convolution_op\n>>>     return tf.nn.convolution(\n>>> \n\nFunction call stack:\ntrain_function -> train_function\n",
     "output_type": "error",
     "traceback": [
      "\u001B[0;31m---------------------------------------------------------------------------\u001B[0m",
      "\u001B[0;31mNotFoundError\u001B[0m                             Traceback (most recent call last)",
      "\u001B[0;32m/tmp/ipykernel_42087/1832398538.py\u001B[0m in \u001B[0;36m<module>\u001B[0;34m\u001B[0m\n\u001B[0;32m----> 1\u001B[0;31m \u001B[0mmodel\u001B[0m\u001B[0;34m.\u001B[0m\u001B[0mfit\u001B[0m\u001B[0;34m(\u001B[0m\u001B[0mtrain_data\u001B[0m\u001B[0;34m,\u001B[0m \u001B[0mtrain_labels\u001B[0m\u001B[0;34m,\u001B[0m \u001B[0mepochs\u001B[0m\u001B[0;34m=\u001B[0m\u001B[0;36m30\u001B[0m\u001B[0;34m,\u001B[0m \u001B[0mvalidation_split\u001B[0m\u001B[0;34m=\u001B[0m\u001B[0;36m0.2\u001B[0m\u001B[0;34m)\u001B[0m\u001B[0;34m\u001B[0m\u001B[0;34m\u001B[0m\u001B[0m\n\u001B[0m",
      "\u001B[0;32m/usr/lib/python3.9/site-packages/keras/utils/traceback_utils.py\u001B[0m in \u001B[0;36merror_handler\u001B[0;34m(*args, **kwargs)\u001B[0m\n\u001B[1;32m     65\u001B[0m     \u001B[0;32mexcept\u001B[0m \u001B[0mException\u001B[0m \u001B[0;32mas\u001B[0m \u001B[0me\u001B[0m\u001B[0;34m:\u001B[0m  \u001B[0;31m# pylint: disable=broad-except\u001B[0m\u001B[0;34m\u001B[0m\u001B[0;34m\u001B[0m\u001B[0m\n\u001B[1;32m     66\u001B[0m       \u001B[0mfiltered_tb\u001B[0m \u001B[0;34m=\u001B[0m \u001B[0m_process_traceback_frames\u001B[0m\u001B[0;34m(\u001B[0m\u001B[0me\u001B[0m\u001B[0;34m.\u001B[0m\u001B[0m__traceback__\u001B[0m\u001B[0;34m)\u001B[0m\u001B[0;34m\u001B[0m\u001B[0;34m\u001B[0m\u001B[0m\n\u001B[0;32m---> 67\u001B[0;31m       \u001B[0;32mraise\u001B[0m \u001B[0me\u001B[0m\u001B[0;34m.\u001B[0m\u001B[0mwith_traceback\u001B[0m\u001B[0;34m(\u001B[0m\u001B[0mfiltered_tb\u001B[0m\u001B[0;34m)\u001B[0m \u001B[0;32mfrom\u001B[0m \u001B[0;32mNone\u001B[0m\u001B[0;34m\u001B[0m\u001B[0;34m\u001B[0m\u001B[0m\n\u001B[0m\u001B[1;32m     68\u001B[0m     \u001B[0;32mfinally\u001B[0m\u001B[0;34m:\u001B[0m\u001B[0;34m\u001B[0m\u001B[0;34m\u001B[0m\u001B[0m\n\u001B[1;32m     69\u001B[0m       \u001B[0;32mdel\u001B[0m \u001B[0mfiltered_tb\u001B[0m\u001B[0;34m\u001B[0m\u001B[0;34m\u001B[0m\u001B[0m\n",
      "\u001B[0;32m/usr/lib/python3.9/site-packages/tensorflow/python/eager/execute.py\u001B[0m in \u001B[0;36mquick_execute\u001B[0;34m(op_name, num_outputs, inputs, attrs, ctx, name)\u001B[0m\n\u001B[1;32m     56\u001B[0m   \u001B[0;32mtry\u001B[0m\u001B[0;34m:\u001B[0m\u001B[0;34m\u001B[0m\u001B[0;34m\u001B[0m\u001B[0m\n\u001B[1;32m     57\u001B[0m     \u001B[0mctx\u001B[0m\u001B[0;34m.\u001B[0m\u001B[0mensure_initialized\u001B[0m\u001B[0;34m(\u001B[0m\u001B[0;34m)\u001B[0m\u001B[0;34m\u001B[0m\u001B[0;34m\u001B[0m\u001B[0m\n\u001B[0;32m---> 58\u001B[0;31m     tensors = pywrap_tfe.TFE_Py_Execute(ctx._handle, device_name, op_name,\n\u001B[0m\u001B[1;32m     59\u001B[0m                                         inputs, attrs, num_outputs)\n\u001B[1;32m     60\u001B[0m   \u001B[0;32mexcept\u001B[0m \u001B[0mcore\u001B[0m\u001B[0;34m.\u001B[0m\u001B[0m_NotOkStatusException\u001B[0m \u001B[0;32mas\u001B[0m \u001B[0me\u001B[0m\u001B[0;34m:\u001B[0m\u001B[0;34m\u001B[0m\u001B[0;34m\u001B[0m\u001B[0m\n",
      "\u001B[0;31mNotFoundError\u001B[0m: 2 root error(s) found.\n  (0) NOT_FOUND:  No algorithm worked!\n\t [[node CNN/conv2d/Conv2D\n (defined at /usr/lib/python3.9/site-packages/keras/layers/convolutional.py:231)\n]]\n\t [[Adam/IdentityN/_60]]\n  (1) NOT_FOUND:  No algorithm worked!\n\t [[node CNN/conv2d/Conv2D\n (defined at /usr/lib/python3.9/site-packages/keras/layers/convolutional.py:231)\n]]\n0 successful operations.\n0 derived errors ignored. [Op:__inference_train_function_10639]\n\nErrors may have originated from an input operation.\nInput Source operations connected to node CNN/conv2d/Conv2D:\nIn[0] IteratorGetNext (defined at /usr/lib/python3.9/site-packages/keras/engine/training.py:866)\t\nIn[1] CNN/conv2d/Conv2D/ReadVariableOp:\n\nOperation defined at: (most recent call last)\n>>>   File \"/usr/lib/python3.9/runpy.py\", line 197, in _run_module_as_main\n>>>     return _run_code(code, main_globals, None,\n>>> \n>>>   File \"/usr/lib/python3.9/runpy.py\", line 87, in _run_code\n>>>     exec(code, run_globals)\n>>> \n>>>   File \"/usr/lib/python3.9/site-packages/ipykernel_launcher.py\", line 16, in <module>\n>>>     app.launch_new_instance()\n>>> \n>>>   File \"/usr/lib/python3.9/site-packages/traitlets/config/application.py\", line 846, in launch_instance\n>>>     app.start()\n>>> \n>>>   File \"/usr/lib/python3.9/site-packages/ipykernel/kernelapp.py\", line 677, in start\n>>>     self.io_loop.start()\n>>> \n>>>   File \"/usr/lib/python3.9/site-packages/tornado/platform/asyncio.py\", line 199, in start\n>>>     self.asyncio_loop.run_forever()\n>>> \n>>>   File \"/usr/lib/python3.9/asyncio/base_events.py\", line 596, in run_forever\n>>>     self._run_once()\n>>> \n>>>   File \"/usr/lib/python3.9/asyncio/base_events.py\", line 1890, in _run_once\n>>>     handle._run()\n>>> \n>>>   File \"/usr/lib/python3.9/asyncio/events.py\", line 80, in _run\n>>>     self._context.run(self._callback, *self._args)\n>>> \n>>>   File \"/usr/lib/python3.9/site-packages/ipykernel/kernelbase.py\", line 457, in dispatch_queue\n>>>     await self.process_one()\n>>> \n>>>   File \"/usr/lib/python3.9/site-packages/ipykernel/kernelbase.py\", line 446, in process_one\n>>>     await dispatch(*args)\n>>> \n>>>   File \"/usr/lib/python3.9/site-packages/ipykernel/kernelbase.py\", line 353, in dispatch_shell\n>>>     await result\n>>> \n>>>   File \"/usr/lib/python3.9/site-packages/ipykernel/kernelbase.py\", line 648, in execute_request\n>>>     reply_content = await reply_content\n>>> \n>>>   File \"/usr/lib/python3.9/site-packages/ipykernel/ipkernel.py\", line 353, in do_execute\n>>>     res = shell.run_cell(code, store_history=store_history, silent=silent)\n>>> \n>>>   File \"/usr/lib/python3.9/site-packages/ipykernel/zmqshell.py\", line 533, in run_cell\n>>>     return super(ZMQInteractiveShell, self).run_cell(*args, **kwargs)\n>>> \n>>>   File \"/usr/lib/python3.9/site-packages/IPython/core/interactiveshell.py\", line 2914, in run_cell\n>>>     result = self._run_cell(\n>>> \n>>>   File \"/usr/lib/python3.9/site-packages/IPython/core/interactiveshell.py\", line 2960, in _run_cell\n>>>     return runner(coro)\n>>> \n>>>   File \"/usr/lib/python3.9/site-packages/IPython/core/async_helpers.py\", line 78, in _pseudo_sync_runner\n>>>     coro.send(None)\n>>> \n>>>   File \"/usr/lib/python3.9/site-packages/IPython/core/interactiveshell.py\", line 3185, in run_cell_async\n>>>     has_raised = await self.run_ast_nodes(code_ast.body, cell_name,\n>>> \n>>>   File \"/usr/lib/python3.9/site-packages/IPython/core/interactiveshell.py\", line 3377, in run_ast_nodes\n>>>     if (await self.run_code(code, result,  async_=asy)):\n>>> \n>>>   File \"/usr/lib/python3.9/site-packages/IPython/core/interactiveshell.py\", line 3457, in run_code\n>>>     exec(code_obj, self.user_global_ns, self.user_ns)\n>>> \n>>>   File \"/tmp/ipykernel_42087/1832398538.py\", line 1, in <module>\n>>>     model.fit(train_data, train_labels, epochs=30, validation_split=0.2)\n>>> \n>>>   File \"/usr/lib/python3.9/site-packages/keras/utils/traceback_utils.py\", line 64, in error_handler\n>>>     return fn(*args, **kwargs)\n>>> \n>>>   File \"/usr/lib/python3.9/site-packages/keras/engine/training.py\", line 1216, in fit\n>>>     tmp_logs = self.train_function(iterator)\n>>> \n>>>   File \"/usr/lib/python3.9/site-packages/keras/engine/training.py\", line 878, in train_function\n>>>     return step_function(self, iterator)\n>>> \n>>>   File \"/usr/lib/python3.9/site-packages/keras/engine/training.py\", line 867, in step_function\n>>>     outputs = model.distribute_strategy.run(run_step, args=(data,))\n>>> \n>>>   File \"/usr/lib/python3.9/site-packages/keras/engine/training.py\", line 860, in run_step\n>>>     outputs = model.train_step(data)\n>>> \n>>>   File \"/usr/lib/python3.9/site-packages/keras/engine/training.py\", line 808, in train_step\n>>>     y_pred = self(x, training=True)\n>>> \n>>>   File \"/usr/lib/python3.9/site-packages/keras/utils/traceback_utils.py\", line 64, in error_handler\n>>>     return fn(*args, **kwargs)\n>>> \n>>>   File \"/usr/lib/python3.9/site-packages/keras/engine/base_layer.py\", line 1083, in __call__\n>>>     outputs = call_fn(inputs, *args, **kwargs)\n>>> \n>>>   File \"/usr/lib/python3.9/site-packages/keras/utils/traceback_utils.py\", line 92, in error_handler\n>>>     return fn(*args, **kwargs)\n>>> \n>>>   File \"/usr/lib/python3.9/site-packages/keras/engine/functional.py\", line 451, in call\n>>>     return self._run_internal_graph(\n>>> \n>>>   File \"/usr/lib/python3.9/site-packages/keras/engine/functional.py\", line 589, in _run_internal_graph\n>>>     outputs = node.layer(*args, **kwargs)\n>>> \n>>>   File \"/usr/lib/python3.9/site-packages/keras/utils/traceback_utils.py\", line 64, in error_handler\n>>>     return fn(*args, **kwargs)\n>>> \n>>>   File \"/usr/lib/python3.9/site-packages/keras/engine/base_layer.py\", line 1083, in __call__\n>>>     outputs = call_fn(inputs, *args, **kwargs)\n>>> \n>>>   File \"/usr/lib/python3.9/site-packages/keras/utils/traceback_utils.py\", line 92, in error_handler\n>>>     return fn(*args, **kwargs)\n>>> \n>>>   File \"/usr/lib/python3.9/site-packages/keras/layers/convolutional.py\", line 246, in call\n>>>     outputs = self.convolution_op(inputs, self.kernel)\n>>> \n>>>   File \"/usr/lib/python3.9/site-packages/keras/layers/convolutional.py\", line 231, in convolution_op\n>>>     return tf.nn.convolution(\n>>> \n\nInput Source operations connected to node CNN/conv2d/Conv2D:\nIn[0] IteratorGetNext (defined at /usr/lib/python3.9/site-packages/keras/engine/training.py:866)\t\nIn[1] CNN/conv2d/Conv2D/ReadVariableOp:\n\nOperation defined at: (most recent call last)\n>>>   File \"/usr/lib/python3.9/runpy.py\", line 197, in _run_module_as_main\n>>>     return _run_code(code, main_globals, None,\n>>> \n>>>   File \"/usr/lib/python3.9/runpy.py\", line 87, in _run_code\n>>>     exec(code, run_globals)\n>>> \n>>>   File \"/usr/lib/python3.9/site-packages/ipykernel_launcher.py\", line 16, in <module>\n>>>     app.launch_new_instance()\n>>> \n>>>   File \"/usr/lib/python3.9/site-packages/traitlets/config/application.py\", line 846, in launch_instance\n>>>     app.start()\n>>> \n>>>   File \"/usr/lib/python3.9/site-packages/ipykernel/kernelapp.py\", line 677, in start\n>>>     self.io_loop.start()\n>>> \n>>>   File \"/usr/lib/python3.9/site-packages/tornado/platform/asyncio.py\", line 199, in start\n>>>     self.asyncio_loop.run_forever()\n>>> \n>>>   File \"/usr/lib/python3.9/asyncio/base_events.py\", line 596, in run_forever\n>>>     self._run_once()\n>>> \n>>>   File \"/usr/lib/python3.9/asyncio/base_events.py\", line 1890, in _run_once\n>>>     handle._run()\n>>> \n>>>   File \"/usr/lib/python3.9/asyncio/events.py\", line 80, in _run\n>>>     self._context.run(self._callback, *self._args)\n>>> \n>>>   File \"/usr/lib/python3.9/site-packages/ipykernel/kernelbase.py\", line 457, in dispatch_queue\n>>>     await self.process_one()\n>>> \n>>>   File \"/usr/lib/python3.9/site-packages/ipykernel/kernelbase.py\", line 446, in process_one\n>>>     await dispatch(*args)\n>>> \n>>>   File \"/usr/lib/python3.9/site-packages/ipykernel/kernelbase.py\", line 353, in dispatch_shell\n>>>     await result\n>>> \n>>>   File \"/usr/lib/python3.9/site-packages/ipykernel/kernelbase.py\", line 648, in execute_request\n>>>     reply_content = await reply_content\n>>> \n>>>   File \"/usr/lib/python3.9/site-packages/ipykernel/ipkernel.py\", line 353, in do_execute\n>>>     res = shell.run_cell(code, store_history=store_history, silent=silent)\n>>> \n>>>   File \"/usr/lib/python3.9/site-packages/ipykernel/zmqshell.py\", line 533, in run_cell\n>>>     return super(ZMQInteractiveShell, self).run_cell(*args, **kwargs)\n>>> \n>>>   File \"/usr/lib/python3.9/site-packages/IPython/core/interactiveshell.py\", line 2914, in run_cell\n>>>     result = self._run_cell(\n>>> \n>>>   File \"/usr/lib/python3.9/site-packages/IPython/core/interactiveshell.py\", line 2960, in _run_cell\n>>>     return runner(coro)\n>>> \n>>>   File \"/usr/lib/python3.9/site-packages/IPython/core/async_helpers.py\", line 78, in _pseudo_sync_runner\n>>>     coro.send(None)\n>>> \n>>>   File \"/usr/lib/python3.9/site-packages/IPython/core/interactiveshell.py\", line 3185, in run_cell_async\n>>>     has_raised = await self.run_ast_nodes(code_ast.body, cell_name,\n>>> \n>>>   File \"/usr/lib/python3.9/site-packages/IPython/core/interactiveshell.py\", line 3377, in run_ast_nodes\n>>>     if (await self.run_code(code, result,  async_=asy)):\n>>> \n>>>   File \"/usr/lib/python3.9/site-packages/IPython/core/interactiveshell.py\", line 3457, in run_code\n>>>     exec(code_obj, self.user_global_ns, self.user_ns)\n>>> \n>>>   File \"/tmp/ipykernel_42087/1832398538.py\", line 1, in <module>\n>>>     model.fit(train_data, train_labels, epochs=30, validation_split=0.2)\n>>> \n>>>   File \"/usr/lib/python3.9/site-packages/keras/utils/traceback_utils.py\", line 64, in error_handler\n>>>     return fn(*args, **kwargs)\n>>> \n>>>   File \"/usr/lib/python3.9/site-packages/keras/engine/training.py\", line 1216, in fit\n>>>     tmp_logs = self.train_function(iterator)\n>>> \n>>>   File \"/usr/lib/python3.9/site-packages/keras/engine/training.py\", line 878, in train_function\n>>>     return step_function(self, iterator)\n>>> \n>>>   File \"/usr/lib/python3.9/site-packages/keras/engine/training.py\", line 867, in step_function\n>>>     outputs = model.distribute_strategy.run(run_step, args=(data,))\n>>> \n>>>   File \"/usr/lib/python3.9/site-packages/keras/engine/training.py\", line 860, in run_step\n>>>     outputs = model.train_step(data)\n>>> \n>>>   File \"/usr/lib/python3.9/site-packages/keras/engine/training.py\", line 808, in train_step\n>>>     y_pred = self(x, training=True)\n>>> \n>>>   File \"/usr/lib/python3.9/site-packages/keras/utils/traceback_utils.py\", line 64, in error_handler\n>>>     return fn(*args, **kwargs)\n>>> \n>>>   File \"/usr/lib/python3.9/site-packages/keras/engine/base_layer.py\", line 1083, in __call__\n>>>     outputs = call_fn(inputs, *args, **kwargs)\n>>> \n>>>   File \"/usr/lib/python3.9/site-packages/keras/utils/traceback_utils.py\", line 92, in error_handler\n>>>     return fn(*args, **kwargs)\n>>> \n>>>   File \"/usr/lib/python3.9/site-packages/keras/engine/functional.py\", line 451, in call\n>>>     return self._run_internal_graph(\n>>> \n>>>   File \"/usr/lib/python3.9/site-packages/keras/engine/functional.py\", line 589, in _run_internal_graph\n>>>     outputs = node.layer(*args, **kwargs)\n>>> \n>>>   File \"/usr/lib/python3.9/site-packages/keras/utils/traceback_utils.py\", line 64, in error_handler\n>>>     return fn(*args, **kwargs)\n>>> \n>>>   File \"/usr/lib/python3.9/site-packages/keras/engine/base_layer.py\", line 1083, in __call__\n>>>     outputs = call_fn(inputs, *args, **kwargs)\n>>> \n>>>   File \"/usr/lib/python3.9/site-packages/keras/utils/traceback_utils.py\", line 92, in error_handler\n>>>     return fn(*args, **kwargs)\n>>> \n>>>   File \"/usr/lib/python3.9/site-packages/keras/layers/convolutional.py\", line 246, in call\n>>>     outputs = self.convolution_op(inputs, self.kernel)\n>>> \n>>>   File \"/usr/lib/python3.9/site-packages/keras/layers/convolutional.py\", line 231, in convolution_op\n>>>     return tf.nn.convolution(\n>>> \n\nFunction call stack:\ntrain_function -> train_function\n"
     ]
    }
   ],
   "source": [
    "model.fit(train_data, train_labels, epochs=30, validation_split=0.2)"
   ],
   "metadata": {
    "collapsed": false,
    "pycharm": {
     "name": "#%%\n"
    }
   }
  },
  {
   "cell_type": "code",
   "execution_count": 7,
   "outputs": [
    {
     "name": "stderr",
     "output_type": "stream",
     "text": [
      "2021-12-16 10:31:49.945224: I tensorflow/stream_executor/cuda/cuda_gpu_executor.cc:939] successful NUMA node read from SysFS had negative value (-1), but there must be at least one NUMA node, so returning NUMA node zero\n",
      "2021-12-16 10:31:50.009547: I tensorflow/stream_executor/cuda/cuda_gpu_executor.cc:939] successful NUMA node read from SysFS had negative value (-1), but there must be at least one NUMA node, so returning NUMA node zero\n",
      "2021-12-16 10:31:50.009891: I tensorflow/stream_executor/cuda/cuda_gpu_executor.cc:939] successful NUMA node read from SysFS had negative value (-1), but there must be at least one NUMA node, so returning NUMA node zero\n",
      "2021-12-16 10:31:50.010988: I tensorflow/core/platform/cpu_feature_guard.cc:151] This TensorFlow binary is optimized with oneAPI Deep Neural Network Library (oneDNN) to use the following CPU instructions in performance-critical operations:  AVX512F FMA\n",
      "To enable them in other operations, rebuild TensorFlow with the appropriate compiler flags.\n",
      "2021-12-16 10:31:50.011794: I tensorflow/stream_executor/cuda/cuda_gpu_executor.cc:939] successful NUMA node read from SysFS had negative value (-1), but there must be at least one NUMA node, so returning NUMA node zero\n",
      "2021-12-16 10:31:50.012120: I tensorflow/stream_executor/cuda/cuda_gpu_executor.cc:939] successful NUMA node read from SysFS had negative value (-1), but there must be at least one NUMA node, so returning NUMA node zero\n",
      "2021-12-16 10:31:50.012400: I tensorflow/stream_executor/cuda/cuda_gpu_executor.cc:939] successful NUMA node read from SysFS had negative value (-1), but there must be at least one NUMA node, so returning NUMA node zero\n",
      "2021-12-16 10:31:50.691850: I tensorflow/stream_executor/cuda/cuda_gpu_executor.cc:939] successful NUMA node read from SysFS had negative value (-1), but there must be at least one NUMA node, so returning NUMA node zero\n",
      "2021-12-16 10:31:50.692123: I tensorflow/stream_executor/cuda/cuda_gpu_executor.cc:939] successful NUMA node read from SysFS had negative value (-1), but there must be at least one NUMA node, so returning NUMA node zero\n",
      "2021-12-16 10:31:50.692276: I tensorflow/stream_executor/cuda/cuda_gpu_executor.cc:939] successful NUMA node read from SysFS had negative value (-1), but there must be at least one NUMA node, so returning NUMA node zero\n",
      "2021-12-16 10:31:50.692422: I tensorflow/core/common_runtime/gpu/gpu_device.cc:1525] Created device /job:localhost/replica:0/task:0/device:GPU:0 with 1627 MB memory:  -> device: 0, name: NVIDIA GeForce MX250, pci bus id: 0000:58:00.0, compute capability: 6.1\n",
      "2021-12-16 10:31:50.693592: I tensorflow/core/common_runtime/process_util.cc:146] Creating new thread pool with default inter op setting: 2. Tune using inter_op_parallelism_threads for best performance.\n"
     ]
    },
    {
     "name": "stdout",
     "output_type": "stream",
     "text": [
      "Downloading data from https://storage.googleapis.com/tensorflow/keras-applications/vgg16/vgg16_weights_tf_dim_ordering_tf_kernels_notop.h5\n",
      "58892288/58889256 [==============================] - 1s 0us/step\n",
      "58900480/58889256 [==============================] - 1s 0us/step\n",
      "Model: \"vgg16\"\n",
      "_________________________________________________________________\n",
      " Layer (type)                Output Shape              Param #   \n",
      "=================================================================\n",
      " input_1 (InputLayer)        [(None, 150, 150, 3)]     0         \n",
      "                                                                 \n",
      " block1_conv1 (Conv2D)       (None, 150, 150, 64)      1792      \n",
      "                                                                 \n",
      " block1_conv2 (Conv2D)       (None, 150, 150, 64)      36928     \n",
      "                                                                 \n",
      " block1_pool (MaxPooling2D)  (None, 75, 75, 64)        0         \n",
      "                                                                 \n",
      " block2_conv1 (Conv2D)       (None, 75, 75, 128)       73856     \n",
      "                                                                 \n",
      " block2_conv2 (Conv2D)       (None, 75, 75, 128)       147584    \n",
      "                                                                 \n",
      " block2_pool (MaxPooling2D)  (None, 37, 37, 128)       0         \n",
      "                                                                 \n",
      " block3_conv1 (Conv2D)       (None, 37, 37, 256)       295168    \n",
      "                                                                 \n",
      " block3_conv2 (Conv2D)       (None, 37, 37, 256)       590080    \n",
      "                                                                 \n",
      " block3_conv3 (Conv2D)       (None, 37, 37, 256)       590080    \n",
      "                                                                 \n",
      " block3_pool (MaxPooling2D)  (None, 18, 18, 256)       0         \n",
      "                                                                 \n",
      " block4_conv1 (Conv2D)       (None, 18, 18, 512)       1180160   \n",
      "                                                                 \n",
      " block4_conv2 (Conv2D)       (None, 18, 18, 512)       2359808   \n",
      "                                                                 \n",
      " block4_conv3 (Conv2D)       (None, 18, 18, 512)       2359808   \n",
      "                                                                 \n",
      " block4_pool (MaxPooling2D)  (None, 9, 9, 512)         0         \n",
      "                                                                 \n",
      " block5_conv1 (Conv2D)       (None, 9, 9, 512)         2359808   \n",
      "                                                                 \n",
      " block5_conv2 (Conv2D)       (None, 9, 9, 512)         2359808   \n",
      "                                                                 \n",
      " block5_conv3 (Conv2D)       (None, 9, 9, 512)         2359808   \n",
      "                                                                 \n",
      " block5_pool (MaxPooling2D)  (None, 4, 4, 512)         0         \n",
      "                                                                 \n",
      "=================================================================\n",
      "Total params: 14,714,688\n",
      "Trainable params: 0\n",
      "Non-trainable params: 14,714,688\n",
      "_________________________________________________________________\n"
     ]
    }
   ],
   "source": [
    "base_model = keras.applications.VGG16(input_shape=(150, 150, 3),\n",
    "                                      include_top=False,\n",
    "                                      weights='imagenet')\n",
    "base_model.trainable = False\n",
    "base_model.summary()"
   ],
   "metadata": {
    "collapsed": false,
    "pycharm": {
     "name": "#%%\n"
    }
   }
  },
  {
   "cell_type": "code",
   "execution_count": null,
   "outputs": [],
   "source": [
    "top_model = keras.models.Sequential()\n",
    "top_model.add(layers.Flatten(input_shape=base_model.output_shape[1:]))\n",
    "top_model.add(layers.Dense(256, activation='relu'))\n",
    "top_model.add(layers.Dense(512, activation='relu'))\n",
    "top_model.add(layers.Dense(3, activation='softmax'))"
   ],
   "metadata": {
    "collapsed": false,
    "pycharm": {
     "name": "#%%\n"
    }
   }
  },
  {
   "cell_type": "code",
   "execution_count": null,
   "outputs": [],
   "source": [],
   "metadata": {
    "collapsed": false,
    "pycharm": {
     "name": "#%%\n"
    }
   }
  }
 ],
 "metadata": {
  "kernelspec": {
   "display_name": "Python 3",
   "language": "python",
   "name": "python3"
  },
  "language_info": {
   "codemirror_mode": {
    "name": "ipython",
    "version": 2
   },
   "file_extension": ".py",
   "mimetype": "text/x-python",
   "name": "python",
   "nbconvert_exporter": "python",
   "pygments_lexer": "ipython2",
   "version": "2.7.6"
  }
 },
 "nbformat": 4,
 "nbformat_minor": 0
}