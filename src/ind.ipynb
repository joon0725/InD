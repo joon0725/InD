{
 "cells": [
  {
   "cell_type": "code",
   "execution_count": 20,
   "outputs": [],
   "source": [
    "import os\n",
    "import tensorflow as tf\n",
    "from tensorflow.keras import Model\n",
    "from tensorflow.keras import layers\n",
    "import tensorflow.keras as keras\n",
    "from PIL import Image\n",
    "import numpy as np"
   ],
   "metadata": {
    "collapsed": false,
    "pycharm": {
     "name": "#%%\n"
    }
   }
  },
  {
   "cell_type": "code",
   "execution_count": 21,
   "outputs": [],
   "source": [
    "src_dir = \"../datasets/ori/\"\n",
    "train_dir = \"../datasets/train/\"\n",
    "val_dir = \"../datasets/validation/\"\n",
    "test_dir = \"../datasets/test/\"\n",
    "categories = ['igneous/', 'metamorphic/', 'sedimentary/']\n",
    "for category in categories:\n",
    "    file_list = os.listdir(src_dir+category)\n",
    "    for n, i in enumerate(file_list[:200]):\n",
    "        img = Image.open(src_dir+category+i)\n",
    "        img_resize = img.resize((150, 150))\n",
    "        img_resize.save(train_dir+category[:-1]+\"_\"+str(n)+\".jpg\", \"JPEG\")\n",
    "    for n, i in enumerate(file_list[200:300]):\n",
    "        img = Image.open(src_dir+category+i)\n",
    "        img_resize = img.resize((150, 150))\n",
    "        img_resize.save(val_dir+category[:-1]+\"_\"+str(n)+\".jpg\", \"JPEG\")\n",
    "    for n, i in enumerate(file_list[300:400]):\n",
    "        img = Image.open(src_dir+category+i)\n",
    "        img_resize = img.resize((150, 150))\n",
    "        img_resize.save(test_dir+category[:-1]+\"_\"+str(n)+\".jpg\", \"JPEG\")"
   ],
   "metadata": {
    "collapsed": false,
    "pycharm": {
     "name": "#%%\n"
    }
   }
  },
  {
   "cell_type": "code",
   "execution_count": 22,
   "outputs": [],
   "source": [
    "train_data = np.empty(shape=(1, 150, 150, 3), dtype=np.float64)\n",
    "for i in os.listdir(train_dir):\n",
    "    img = Image.open(train_dir+i)\n",
    "    train_data = np.append(train_data, [np.asarray(img)], axis=0)\n",
    "train_data = np.delete(train_data, [0,0], axis=0)\n",
    "train_data = train_data / 255.0"
   ],
   "metadata": {
    "collapsed": false,
    "pycharm": {
     "name": "#%%\n"
    }
   }
  },
  {
   "cell_type": "code",
   "execution_count": 23,
   "outputs": [],
   "source": [
    "a = [0 for i in range(200)] + [1 for j in range(200)] + [2 for k in range(200)]\n",
    "train_labels = np.array(a)"
   ],
   "metadata": {
    "collapsed": false,
    "pycharm": {
     "name": "#%%\n"
    }
   }
  },
  {
   "cell_type": "code",
   "execution_count": 24,
   "outputs": [
    {
     "name": "stdout",
     "output_type": "stream",
     "text": [
      "(600, 150, 150, 3) (600,)\n"
     ]
    }
   ],
   "source": [
    "s = np.arange(600)\n",
    "np.random.shuffle(s)\n",
    "train_data = train_data[s]\n",
    "train_labels = train_labels[s]\n",
    "print(train_data.shape, train_labels.shape)"
   ],
   "metadata": {
    "collapsed": false,
    "pycharm": {
     "name": "#%%\n"
    }
   }
  },
  {
   "cell_type": "code",
   "execution_count": 25,
   "outputs": [],
   "source": [
    "from tensorflow.keras import applications\n",
    "vgg = applications.VGG16(weights='imagenet', include_top=False,  input_shape=(150, 150, 3))\n",
    "vgg.trainable = False\n",
    "global_avg_layer = layers.GlobalAveragePooling2D()\n",
    "prediction_layer = layers.Dense(3, activation='softmax')\n",
    "model = keras.Sequential([\n",
    "    vgg,\n",
    "    global_avg_layer,\n",
    "    prediction_layer\n",
    "])"
   ],
   "metadata": {
    "collapsed": false,
    "pycharm": {
     "name": "#%%\n"
    }
   }
  },
  {
   "cell_type": "code",
   "execution_count": 26,
   "outputs": [],
   "source": [
    "model.compile(optimizer='adam', loss='sparse_categorical_crossentropy', metrics=['acc'])"
   ],
   "metadata": {
    "collapsed": false,
    "pycharm": {
     "name": "#%%\n"
    }
   }
  },
  {
   "cell_type": "code",
   "execution_count": 27,
   "outputs": [
    {
     "name": "stdout",
     "output_type": "stream",
     "text": [
      "Epoch 1/100\n",
      "4/4 [==============================] - 15s 3s/step - loss: 1.1287 - acc: 0.3250 - val_loss: 1.1271 - val_acc: 0.3000\n",
      "Epoch 2/100\n",
      "4/4 [==============================] - 1s 226ms/step - loss: 1.1130 - acc: 0.3562 - val_loss: 1.1354 - val_acc: 0.3000\n",
      "Epoch 3/100\n",
      "4/4 [==============================] - 1s 220ms/step - loss: 1.1122 - acc: 0.3417 - val_loss: 1.1342 - val_acc: 0.2833\n",
      "Epoch 4/100\n",
      "4/4 [==============================] - 1s 225ms/step - loss: 1.1055 - acc: 0.3604 - val_loss: 1.1290 - val_acc: 0.3167\n",
      "Epoch 5/100\n",
      "4/4 [==============================] - 1s 210ms/step - loss: 1.1002 - acc: 0.3521 - val_loss: 1.1272 - val_acc: 0.2917\n",
      "Epoch 6/100\n",
      "4/4 [==============================] - 1s 207ms/step - loss: 1.0966 - acc: 0.3646 - val_loss: 1.1293 - val_acc: 0.3000\n",
      "Epoch 7/100\n",
      "4/4 [==============================] - 1s 206ms/step - loss: 1.0933 - acc: 0.3812 - val_loss: 1.1306 - val_acc: 0.2667\n",
      "Epoch 8/100\n",
      "4/4 [==============================] - 1s 208ms/step - loss: 1.0890 - acc: 0.3896 - val_loss: 1.1350 - val_acc: 0.2833\n",
      "Epoch 9/100\n",
      "4/4 [==============================] - 1s 226ms/step - loss: 1.0855 - acc: 0.3979 - val_loss: 1.1384 - val_acc: 0.2917\n",
      "Epoch 10/100\n",
      "4/4 [==============================] - 1s 226ms/step - loss: 1.0833 - acc: 0.3958 - val_loss: 1.1397 - val_acc: 0.2833\n",
      "Epoch 11/100\n",
      "4/4 [==============================] - 1s 214ms/step - loss: 1.0803 - acc: 0.4125 - val_loss: 1.1392 - val_acc: 0.2917\n",
      "Epoch 12/100\n",
      "4/4 [==============================] - 1s 208ms/step - loss: 1.0781 - acc: 0.4187 - val_loss: 1.1374 - val_acc: 0.2750\n",
      "Epoch 13/100\n",
      "4/4 [==============================] - 1s 227ms/step - loss: 1.0749 - acc: 0.4083 - val_loss: 1.1376 - val_acc: 0.2833\n",
      "Epoch 14/100\n",
      "4/4 [==============================] - 1s 214ms/step - loss: 1.0724 - acc: 0.4021 - val_loss: 1.1395 - val_acc: 0.2833\n",
      "Epoch 15/100\n",
      "4/4 [==============================] - 1s 206ms/step - loss: 1.0709 - acc: 0.4208 - val_loss: 1.1464 - val_acc: 0.2667\n",
      "Epoch 16/100\n",
      "4/4 [==============================] - 1s 207ms/step - loss: 1.0680 - acc: 0.4250 - val_loss: 1.1465 - val_acc: 0.2750\n",
      "Epoch 17/100\n",
      "4/4 [==============================] - 1s 206ms/step - loss: 1.0657 - acc: 0.4333 - val_loss: 1.1458 - val_acc: 0.2750\n",
      "Epoch 18/100\n",
      "4/4 [==============================] - 1s 207ms/step - loss: 1.0647 - acc: 0.4104 - val_loss: 1.1421 - val_acc: 0.2833\n",
      "Epoch 19/100\n",
      "4/4 [==============================] - 1s 209ms/step - loss: 1.0613 - acc: 0.4125 - val_loss: 1.1431 - val_acc: 0.2750\n",
      "Epoch 20/100\n",
      "4/4 [==============================] - 1s 206ms/step - loss: 1.0592 - acc: 0.4354 - val_loss: 1.1459 - val_acc: 0.2833\n",
      "Epoch 21/100\n",
      "4/4 [==============================] - 1s 208ms/step - loss: 1.0570 - acc: 0.4563 - val_loss: 1.1472 - val_acc: 0.2667\n",
      "Epoch 22/100\n",
      "4/4 [==============================] - 1s 207ms/step - loss: 1.0553 - acc: 0.4625 - val_loss: 1.1482 - val_acc: 0.2833\n",
      "Epoch 23/100\n",
      "4/4 [==============================] - 1s 210ms/step - loss: 1.0531 - acc: 0.4646 - val_loss: 1.1461 - val_acc: 0.2667\n",
      "Epoch 24/100\n",
      "4/4 [==============================] - 1s 210ms/step - loss: 1.0518 - acc: 0.4625 - val_loss: 1.1447 - val_acc: 0.2750\n",
      "Epoch 25/100\n",
      "4/4 [==============================] - 1s 208ms/step - loss: 1.0496 - acc: 0.4563 - val_loss: 1.1435 - val_acc: 0.2583\n",
      "Epoch 26/100\n",
      "4/4 [==============================] - 1s 209ms/step - loss: 1.0478 - acc: 0.4792 - val_loss: 1.1482 - val_acc: 0.2833\n",
      "Epoch 27/100\n",
      "4/4 [==============================] - 1s 214ms/step - loss: 1.0463 - acc: 0.4938 - val_loss: 1.1487 - val_acc: 0.2833\n",
      "Epoch 28/100\n",
      "4/4 [==============================] - 1s 208ms/step - loss: 1.0438 - acc: 0.4958 - val_loss: 1.1500 - val_acc: 0.2917\n",
      "Epoch 29/100\n",
      "4/4 [==============================] - 1s 212ms/step - loss: 1.0420 - acc: 0.4917 - val_loss: 1.1519 - val_acc: 0.2750\n",
      "Epoch 30/100\n",
      "4/4 [==============================] - 1s 209ms/step - loss: 1.0403 - acc: 0.4917 - val_loss: 1.1522 - val_acc: 0.2833\n",
      "Epoch 31/100\n",
      "4/4 [==============================] - 1s 232ms/step - loss: 1.0391 - acc: 0.4833 - val_loss: 1.1515 - val_acc: 0.2833\n",
      "Epoch 32/100\n",
      "4/4 [==============================] - 1s 242ms/step - loss: 1.0370 - acc: 0.5000 - val_loss: 1.1506 - val_acc: 0.2833\n",
      "Epoch 33/100\n",
      "4/4 [==============================] - 1s 226ms/step - loss: 1.0352 - acc: 0.4979 - val_loss: 1.1503 - val_acc: 0.2833\n",
      "Epoch 34/100\n",
      "4/4 [==============================] - 1s 212ms/step - loss: 1.0336 - acc: 0.5083 - val_loss: 1.1507 - val_acc: 0.2917\n",
      "Epoch 35/100\n",
      "4/4 [==============================] - 1s 210ms/step - loss: 1.0327 - acc: 0.5104 - val_loss: 1.1529 - val_acc: 0.2917\n",
      "Epoch 36/100\n",
      "4/4 [==============================] - 1s 216ms/step - loss: 1.0306 - acc: 0.5208 - val_loss: 1.1514 - val_acc: 0.3000\n",
      "Epoch 37/100\n",
      "4/4 [==============================] - 1s 216ms/step - loss: 1.0291 - acc: 0.5146 - val_loss: 1.1515 - val_acc: 0.3000\n",
      "Epoch 38/100\n",
      "4/4 [==============================] - 1s 211ms/step - loss: 1.0276 - acc: 0.5229 - val_loss: 1.1547 - val_acc: 0.3083\n",
      "Epoch 39/100\n",
      "4/4 [==============================] - 1s 209ms/step - loss: 1.0257 - acc: 0.5229 - val_loss: 1.1538 - val_acc: 0.3000\n",
      "Epoch 40/100\n",
      "4/4 [==============================] - 1s 207ms/step - loss: 1.0241 - acc: 0.5292 - val_loss: 1.1533 - val_acc: 0.3167\n",
      "Epoch 41/100\n",
      "4/4 [==============================] - 1s 206ms/step - loss: 1.0231 - acc: 0.5229 - val_loss: 1.1550 - val_acc: 0.3000\n",
      "Epoch 42/100\n",
      "4/4 [==============================] - 1s 209ms/step - loss: 1.0216 - acc: 0.5292 - val_loss: 1.1531 - val_acc: 0.3167\n",
      "Epoch 43/100\n",
      "4/4 [==============================] - 1s 209ms/step - loss: 1.0195 - acc: 0.5375 - val_loss: 1.1547 - val_acc: 0.3000\n",
      "Epoch 44/100\n",
      "4/4 [==============================] - 1s 208ms/step - loss: 1.0184 - acc: 0.5375 - val_loss: 1.1551 - val_acc: 0.2833\n",
      "Epoch 45/100\n",
      "4/4 [==============================] - 1s 209ms/step - loss: 1.0167 - acc: 0.5333 - val_loss: 1.1560 - val_acc: 0.2833\n",
      "Epoch 46/100\n",
      "4/4 [==============================] - 1s 210ms/step - loss: 1.0153 - acc: 0.5375 - val_loss: 1.1561 - val_acc: 0.2833\n",
      "Epoch 47/100\n",
      "4/4 [==============================] - 1s 206ms/step - loss: 1.0137 - acc: 0.5500 - val_loss: 1.1547 - val_acc: 0.2833\n",
      "Epoch 48/100\n",
      "4/4 [==============================] - 1s 211ms/step - loss: 1.0142 - acc: 0.5271 - val_loss: 1.1515 - val_acc: 0.2750\n",
      "Epoch 49/100\n",
      "4/4 [==============================] - 1s 212ms/step - loss: 1.0119 - acc: 0.5312 - val_loss: 1.1548 - val_acc: 0.2667\n",
      "Epoch 50/100\n",
      "4/4 [==============================] - 1s 210ms/step - loss: 1.0114 - acc: 0.5292 - val_loss: 1.1637 - val_acc: 0.2750\n",
      "Epoch 51/100\n",
      "4/4 [==============================] - 1s 210ms/step - loss: 1.0091 - acc: 0.5417 - val_loss: 1.1625 - val_acc: 0.2833\n",
      "Epoch 52/100\n",
      "4/4 [==============================] - 1s 208ms/step - loss: 1.0066 - acc: 0.5542 - val_loss: 1.1597 - val_acc: 0.2750\n",
      "Epoch 53/100\n",
      "4/4 [==============================] - 1s 208ms/step - loss: 1.0055 - acc: 0.5542 - val_loss: 1.1570 - val_acc: 0.2833\n",
      "Epoch 54/100\n",
      "4/4 [==============================] - 1s 209ms/step - loss: 1.0055 - acc: 0.5437 - val_loss: 1.1562 - val_acc: 0.2583\n",
      "Epoch 55/100\n",
      "4/4 [==============================] - 1s 208ms/step - loss: 1.0032 - acc: 0.5500 - val_loss: 1.1599 - val_acc: 0.2750\n",
      "Epoch 56/100\n",
      "4/4 [==============================] - 1s 210ms/step - loss: 1.0019 - acc: 0.5521 - val_loss: 1.1652 - val_acc: 0.2667\n",
      "Epoch 57/100\n",
      "4/4 [==============================] - 1s 211ms/step - loss: 1.0012 - acc: 0.5542 - val_loss: 1.1650 - val_acc: 0.2667\n",
      "Epoch 58/100\n",
      "4/4 [==============================] - 1s 208ms/step - loss: 0.9989 - acc: 0.5542 - val_loss: 1.1590 - val_acc: 0.2667\n",
      "Epoch 59/100\n",
      "4/4 [==============================] - 1s 208ms/step - loss: 0.9997 - acc: 0.5500 - val_loss: 1.1551 - val_acc: 0.2750\n",
      "Epoch 60/100\n",
      "4/4 [==============================] - 1s 208ms/step - loss: 0.9970 - acc: 0.5542 - val_loss: 1.1584 - val_acc: 0.2417\n",
      "Epoch 61/100\n",
      "4/4 [==============================] - 1s 207ms/step - loss: 0.9960 - acc: 0.5667 - val_loss: 1.1653 - val_acc: 0.2750\n",
      "Epoch 62/100\n",
      "4/4 [==============================] - 1s 208ms/step - loss: 0.9943 - acc: 0.5646 - val_loss: 1.1640 - val_acc: 0.2667\n",
      "Epoch 63/100\n",
      "4/4 [==============================] - 1s 208ms/step - loss: 0.9937 - acc: 0.5667 - val_loss: 1.1670 - val_acc: 0.2667\n",
      "Epoch 64/100\n",
      "4/4 [==============================] - 1s 207ms/step - loss: 0.9915 - acc: 0.5625 - val_loss: 1.1643 - val_acc: 0.2500\n",
      "Epoch 65/100\n",
      "4/4 [==============================] - 1s 210ms/step - loss: 0.9899 - acc: 0.5562 - val_loss: 1.1621 - val_acc: 0.2500\n",
      "Epoch 66/100\n",
      "4/4 [==============================] - 1s 209ms/step - loss: 0.9897 - acc: 0.5562 - val_loss: 1.1626 - val_acc: 0.2667\n",
      "Epoch 67/100\n",
      "4/4 [==============================] - 1s 208ms/step - loss: 0.9876 - acc: 0.5688 - val_loss: 1.1642 - val_acc: 0.2583\n",
      "Epoch 68/100\n",
      "4/4 [==============================] - 1s 209ms/step - loss: 0.9869 - acc: 0.5667 - val_loss: 1.1656 - val_acc: 0.2833\n",
      "Epoch 69/100\n",
      "4/4 [==============================] - 1s 207ms/step - loss: 0.9860 - acc: 0.5604 - val_loss: 1.1638 - val_acc: 0.2500\n",
      "Epoch 70/100\n",
      "4/4 [==============================] - 1s 208ms/step - loss: 0.9843 - acc: 0.5604 - val_loss: 1.1675 - val_acc: 0.2500\n",
      "Epoch 71/100\n",
      "4/4 [==============================] - 1s 208ms/step - loss: 0.9831 - acc: 0.5688 - val_loss: 1.1654 - val_acc: 0.2500\n",
      "Epoch 72/100\n",
      "4/4 [==============================] - 1s 211ms/step - loss: 0.9813 - acc: 0.5750 - val_loss: 1.1666 - val_acc: 0.2500\n",
      "Epoch 73/100\n",
      "4/4 [==============================] - 1s 208ms/step - loss: 0.9804 - acc: 0.5729 - val_loss: 1.1673 - val_acc: 0.2667\n",
      "Epoch 74/100\n",
      "4/4 [==============================] - 1s 210ms/step - loss: 0.9804 - acc: 0.5688 - val_loss: 1.1659 - val_acc: 0.2583\n",
      "Epoch 75/100\n",
      "4/4 [==============================] - 1s 210ms/step - loss: 0.9784 - acc: 0.5771 - val_loss: 1.1688 - val_acc: 0.2667\n",
      "Epoch 76/100\n",
      "4/4 [==============================] - 1s 209ms/step - loss: 0.9772 - acc: 0.5875 - val_loss: 1.1738 - val_acc: 0.2583\n",
      "Epoch 77/100\n",
      "4/4 [==============================] - 1s 208ms/step - loss: 0.9781 - acc: 0.5854 - val_loss: 1.1750 - val_acc: 0.2667\n",
      "Epoch 78/100\n",
      "4/4 [==============================] - 1s 208ms/step - loss: 0.9763 - acc: 0.5771 - val_loss: 1.1677 - val_acc: 0.2667\n",
      "Epoch 79/100\n",
      "4/4 [==============================] - 1s 209ms/step - loss: 0.9738 - acc: 0.5750 - val_loss: 1.1680 - val_acc: 0.2667\n",
      "Epoch 80/100\n",
      "4/4 [==============================] - 1s 212ms/step - loss: 0.9724 - acc: 0.5792 - val_loss: 1.1683 - val_acc: 0.2667\n",
      "Epoch 81/100\n",
      "4/4 [==============================] - 1s 208ms/step - loss: 0.9715 - acc: 0.5771 - val_loss: 1.1713 - val_acc: 0.2667\n",
      "Epoch 82/100\n",
      "4/4 [==============================] - 1s 212ms/step - loss: 0.9702 - acc: 0.5875 - val_loss: 1.1735 - val_acc: 0.2667\n",
      "Epoch 83/100\n",
      "4/4 [==============================] - 1s 207ms/step - loss: 0.9699 - acc: 0.5750 - val_loss: 1.1713 - val_acc: 0.2500\n",
      "Epoch 84/100\n",
      "4/4 [==============================] - 1s 210ms/step - loss: 0.9678 - acc: 0.5771 - val_loss: 1.1717 - val_acc: 0.2583\n",
      "Epoch 85/100\n",
      "4/4 [==============================] - 1s 209ms/step - loss: 0.9668 - acc: 0.5854 - val_loss: 1.1734 - val_acc: 0.2750\n",
      "Epoch 86/100\n",
      "4/4 [==============================] - 1s 209ms/step - loss: 0.9661 - acc: 0.5875 - val_loss: 1.1747 - val_acc: 0.2583\n",
      "Epoch 87/100\n",
      "4/4 [==============================] - 1s 209ms/step - loss: 0.9650 - acc: 0.5917 - val_loss: 1.1734 - val_acc: 0.2667\n",
      "Epoch 88/100\n",
      "4/4 [==============================] - 1s 208ms/step - loss: 0.9637 - acc: 0.5896 - val_loss: 1.1738 - val_acc: 0.2583\n",
      "Epoch 89/100\n",
      "4/4 [==============================] - 1s 241ms/step - loss: 0.9628 - acc: 0.5958 - val_loss: 1.1762 - val_acc: 0.2667\n",
      "Epoch 90/100\n",
      "4/4 [==============================] - 1s 216ms/step - loss: 0.9616 - acc: 0.5917 - val_loss: 1.1766 - val_acc: 0.2667\n",
      "Epoch 91/100\n",
      "4/4 [==============================] - 1s 216ms/step - loss: 0.9605 - acc: 0.6062 - val_loss: 1.1747 - val_acc: 0.2667\n",
      "Epoch 92/100\n",
      "4/4 [==============================] - 1s 215ms/step - loss: 0.9594 - acc: 0.5854 - val_loss: 1.1732 - val_acc: 0.2750\n",
      "Epoch 93/100\n",
      "4/4 [==============================] - 1s 220ms/step - loss: 0.9585 - acc: 0.5938 - val_loss: 1.1736 - val_acc: 0.2750\n",
      "Epoch 94/100\n",
      "4/4 [==============================] - 1s 214ms/step - loss: 0.9575 - acc: 0.5938 - val_loss: 1.1767 - val_acc: 0.2667\n",
      "Epoch 95/100\n",
      "4/4 [==============================] - 1s 234ms/step - loss: 0.9564 - acc: 0.6000 - val_loss: 1.1754 - val_acc: 0.2500\n",
      "Epoch 96/100\n",
      "4/4 [==============================] - 1s 223ms/step - loss: 0.9555 - acc: 0.5979 - val_loss: 1.1783 - val_acc: 0.2583\n",
      "Epoch 97/100\n",
      "4/4 [==============================] - 1s 221ms/step - loss: 0.9546 - acc: 0.6021 - val_loss: 1.1787 - val_acc: 0.2750\n",
      "Epoch 98/100\n",
      "4/4 [==============================] - 1s 213ms/step - loss: 0.9532 - acc: 0.6042 - val_loss: 1.1781 - val_acc: 0.2833\n",
      "Epoch 99/100\n",
      "4/4 [==============================] - 1s 226ms/step - loss: 0.9520 - acc: 0.5958 - val_loss: 1.1786 - val_acc: 0.2833\n",
      "Epoch 100/100\n",
      "4/4 [==============================] - 1s 237ms/step - loss: 0.9519 - acc: 0.5938 - val_loss: 1.1828 - val_acc: 0.2667\n"
     ]
    }
   ],
   "source": [
    "history = model.fit(x=train_data, y=train_labels, epochs=100, batch_size=128, validation_split=0.2)"
   ],
   "metadata": {
    "collapsed": false,
    "pycharm": {
     "name": "#%%\n"
    }
   }
  }
 ],
 "metadata": {
  "kernelspec": {
   "display_name": "Python 3",
   "language": "python",
   "name": "python3"
  },
  "language_info": {
   "codemirror_mode": {
    "name": "ipython",
    "version": 2
   },
   "file_extension": ".py",
   "mimetype": "text/x-python",
   "name": "python",
   "nbconvert_exporter": "python",
   "pygments_lexer": "ipython2",
   "version": "2.7.6"
  }
 },
 "nbformat": 4,
 "nbformat_minor": 0
}